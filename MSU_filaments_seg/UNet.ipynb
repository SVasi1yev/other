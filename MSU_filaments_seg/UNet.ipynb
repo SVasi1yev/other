{
 "cells": [
  {
   "cell_type": "code",
   "execution_count": 1,
   "id": "c3e6443a",
   "metadata": {},
   "outputs": [],
   "source": [
    "import pandas as pd\n",
    "from astropy.cosmology import Planck13\n",
    "\n",
    "import disperse\n",
    "# import UNet3D\n",
    "import torch"
   ]
  },
  {
   "cell_type": "code",
   "execution_count": 2,
   "id": "27e55597",
   "metadata": {},
   "outputs": [
    {
     "name": "stdout",
     "output_type": "stream",
     "text": [
      "139833325838784_galaxies_ascii.txt  _disperse_04  __pycache__\t  UNet3D.py\r\n",
      "_disperse_01\t\t\t    disperse.py   README.md\r\n",
      "_disperse_02\t\t\t    MGS_DR7\t  SDSS\r\n",
      "_disperse_03\t\t\t    OLD\t\t  tutorial.ipynb\r\n"
     ]
    }
   ],
   "source": [
    "!ls"
   ]
  },
  {
   "cell_type": "code",
   "execution_count": 3,
   "id": "540a1f9a",
   "metadata": {},
   "outputs": [
    {
     "name": "stdout",
     "output_type": "stream",
     "text": [
      "DR5_cluster-catalog_v1.1.fits  SDSS_DR16.csv\r\n",
      "SDSS_DR12_MGS.dat\t       SDSS_DR7.csv\r\n",
      "SDSS_DR12_optical_groups.dat   sdss_opt_gr_filtered_RaDecZ.csv\r\n"
     ]
    }
   ],
   "source": [
    "!ls SDSS"
   ]
  },
  {
   "cell_type": "code",
   "execution_count": 4,
   "id": "ae5b7b56",
   "metadata": {},
   "outputs": [],
   "source": [
    "sdss_dr7 = pd.read_csv('SDSS/SDSS_DR7.csv')\n",
    "sdss_dr7 = sdss_dr7[['ra', 'dec', 'z']]\n",
    "sdss_dr7.columns = ['RA', 'DEC', 'Z']\n",
    "\n",
    "\n",
    "coma_ra_int = (120, 280)\n",
    "coma_dec_int = (-20, 80)\n",
    "coma_z_int = (0.006, 0.040)\n",
    "# coma_z_int = (0.006, 0.040)\n",
    "\n",
    "sdss_dr7 = sdss_dr7[\n",
    "        (coma_ra_int[0] < sdss_dr7['RA']) & (sdss_dr7['RA'] < coma_ra_int[1]) & \\\n",
    "        (coma_dec_int[0] < sdss_dr7['DEC']) & (sdss_dr7['DEC'] < coma_dec_int[1]) & \\\n",
    "        (coma_z_int[0] < sdss_dr7['Z']) & (sdss_dr7['Z'] < coma_z_int[1])\n",
    "    ]\n",
    "sdss_dr7.reset_index(drop=True, inplace=True)"
   ]
  },
  {
   "cell_type": "code",
   "execution_count": 5,
   "id": "90437130",
   "metadata": {},
   "outputs": [
    {
     "data": {
      "text/html": [
       "<div>\n",
       "<style scoped>\n",
       "    .dataframe tbody tr th:only-of-type {\n",
       "        vertical-align: middle;\n",
       "    }\n",
       "\n",
       "    .dataframe tbody tr th {\n",
       "        vertical-align: top;\n",
       "    }\n",
       "\n",
       "    .dataframe thead th {\n",
       "        text-align: right;\n",
       "    }\n",
       "</style>\n",
       "<table border=\"1\" class=\"dataframe\">\n",
       "  <thead>\n",
       "    <tr style=\"text-align: right;\">\n",
       "      <th></th>\n",
       "      <th>RA</th>\n",
       "      <th>DEC</th>\n",
       "      <th>Z</th>\n",
       "    </tr>\n",
       "  </thead>\n",
       "  <tbody>\n",
       "    <tr>\n",
       "      <th>0</th>\n",
       "      <td>146.71421</td>\n",
       "      <td>-1.041304</td>\n",
       "      <td>0.021314</td>\n",
       "    </tr>\n",
       "    <tr>\n",
       "      <th>1</th>\n",
       "      <td>147.17639</td>\n",
       "      <td>-0.354057</td>\n",
       "      <td>0.006436</td>\n",
       "    </tr>\n",
       "    <tr>\n",
       "      <th>2</th>\n",
       "      <td>146.85676</td>\n",
       "      <td>-0.274040</td>\n",
       "      <td>0.022017</td>\n",
       "    </tr>\n",
       "    <tr>\n",
       "      <th>3</th>\n",
       "      <td>146.61904</td>\n",
       "      <td>-0.434322</td>\n",
       "      <td>0.006087</td>\n",
       "    </tr>\n",
       "    <tr>\n",
       "      <th>4</th>\n",
       "      <td>146.75170</td>\n",
       "      <td>-0.408392</td>\n",
       "      <td>0.035831</td>\n",
       "    </tr>\n",
       "    <tr>\n",
       "      <th>...</th>\n",
       "      <td>...</td>\n",
       "      <td>...</td>\n",
       "      <td>...</td>\n",
       "    </tr>\n",
       "    <tr>\n",
       "      <th>61774</th>\n",
       "      <td>260.39196</td>\n",
       "      <td>31.679209</td>\n",
       "      <td>0.029946</td>\n",
       "    </tr>\n",
       "    <tr>\n",
       "      <th>61775</th>\n",
       "      <td>260.64573</td>\n",
       "      <td>31.807949</td>\n",
       "      <td>0.033229</td>\n",
       "    </tr>\n",
       "    <tr>\n",
       "      <th>61776</th>\n",
       "      <td>260.73569</td>\n",
       "      <td>31.341986</td>\n",
       "      <td>0.015230</td>\n",
       "    </tr>\n",
       "    <tr>\n",
       "      <th>61777</th>\n",
       "      <td>261.10350</td>\n",
       "      <td>31.590881</td>\n",
       "      <td>0.025233</td>\n",
       "    </tr>\n",
       "    <tr>\n",
       "      <th>61778</th>\n",
       "      <td>260.74317</td>\n",
       "      <td>31.944035</td>\n",
       "      <td>0.033893</td>\n",
       "    </tr>\n",
       "  </tbody>\n",
       "</table>\n",
       "<p>61779 rows × 3 columns</p>\n",
       "</div>"
      ],
      "text/plain": [
       "              RA        DEC         Z\n",
       "0      146.71421  -1.041304  0.021314\n",
       "1      147.17639  -0.354057  0.006436\n",
       "2      146.85676  -0.274040  0.022017\n",
       "3      146.61904  -0.434322  0.006087\n",
       "4      146.75170  -0.408392  0.035831\n",
       "...          ...        ...       ...\n",
       "61774  260.39196  31.679209  0.029946\n",
       "61775  260.64573  31.807949  0.033229\n",
       "61776  260.73569  31.341986  0.015230\n",
       "61777  261.10350  31.590881  0.025233\n",
       "61778  260.74317  31.944035  0.033893\n",
       "\n",
       "[61779 rows x 3 columns]"
      ]
     },
     "execution_count": 5,
     "metadata": {},
     "output_type": "execute_result"
    }
   ],
   "source": [
    "sdss_dr7"
   ]
  },
  {
   "cell_type": "code",
   "execution_count": 6,
   "id": "a8d1d471",
   "metadata": {},
   "outputs": [],
   "source": [
    "sdss_opt_gr = pd.read_csv('SDSS/sdss_opt_gr_filtered_RaDecZ.csv')\n",
    "sdss_opt_gr = sdss_opt_gr[sdss_opt_gr['n_gal'] >= 15]\n",
    "sdss_opt_gr.reset_index(drop=True, inplace=True)"
   ]
  },
  {
   "cell_type": "code",
   "execution_count": 7,
   "id": "7fde8db2",
   "metadata": {},
   "outputs": [
    {
     "data": {
      "text/html": [
       "<div>\n",
       "<style scoped>\n",
       "    .dataframe tbody tr th:only-of-type {\n",
       "        vertical-align: middle;\n",
       "    }\n",
       "\n",
       "    .dataframe tbody tr th {\n",
       "        vertical-align: top;\n",
       "    }\n",
       "\n",
       "    .dataframe thead th {\n",
       "        text-align: right;\n",
       "    }\n",
       "</style>\n",
       "<table border=\"1\" class=\"dataframe\">\n",
       "  <thead>\n",
       "    <tr style=\"text-align: right;\">\n",
       "      <th></th>\n",
       "      <th>n_gal</th>\n",
       "      <th>RA</th>\n",
       "      <th>DEC</th>\n",
       "      <th>Z</th>\n",
       "      <th>r_max</th>\n",
       "      <th>M200</th>\n",
       "      <th>R200</th>\n",
       "    </tr>\n",
       "  </thead>\n",
       "  <tbody>\n",
       "    <tr>\n",
       "      <th>0</th>\n",
       "      <td>180</td>\n",
       "      <td>246.942018</td>\n",
       "      <td>39.401823</td>\n",
       "      <td>0.031119</td>\n",
       "      <td>1.720684</td>\n",
       "      <td>635.8440</td>\n",
       "      <td>1.794430</td>\n",
       "    </tr>\n",
       "    <tr>\n",
       "      <th>1</th>\n",
       "      <td>83</td>\n",
       "      <td>247.581739</td>\n",
       "      <td>39.778534</td>\n",
       "      <td>0.028910</td>\n",
       "      <td>1.040201</td>\n",
       "      <td>221.2070</td>\n",
       "      <td>1.262930</td>\n",
       "    </tr>\n",
       "    <tr>\n",
       "      <th>2</th>\n",
       "      <td>101</td>\n",
       "      <td>246.935701</td>\n",
       "      <td>40.923333</td>\n",
       "      <td>0.031285</td>\n",
       "      <td>1.363890</td>\n",
       "      <td>307.1370</td>\n",
       "      <td>1.407870</td>\n",
       "    </tr>\n",
       "    <tr>\n",
       "      <th>3</th>\n",
       "      <td>85</td>\n",
       "      <td>247.491124</td>\n",
       "      <td>40.610586</td>\n",
       "      <td>0.029515</td>\n",
       "      <td>1.029668</td>\n",
       "      <td>147.2880</td>\n",
       "      <td>1.102600</td>\n",
       "    </tr>\n",
       "    <tr>\n",
       "      <th>4</th>\n",
       "      <td>34</td>\n",
       "      <td>246.010700</td>\n",
       "      <td>41.010818</td>\n",
       "      <td>0.030111</td>\n",
       "      <td>1.035922</td>\n",
       "      <td>135.6380</td>\n",
       "      <td>1.072530</td>\n",
       "    </tr>\n",
       "    <tr>\n",
       "      <th>...</th>\n",
       "      <td>...</td>\n",
       "      <td>...</td>\n",
       "      <td>...</td>\n",
       "      <td>...</td>\n",
       "      <td>...</td>\n",
       "      <td>...</td>\n",
       "      <td>...</td>\n",
       "    </tr>\n",
       "    <tr>\n",
       "      <th>217</th>\n",
       "      <td>22</td>\n",
       "      <td>247.144612</td>\n",
       "      <td>8.529292</td>\n",
       "      <td>0.032348</td>\n",
       "      <td>0.760295</td>\n",
       "      <td>54.8312</td>\n",
       "      <td>0.792467</td>\n",
       "    </tr>\n",
       "    <tr>\n",
       "      <th>218</th>\n",
       "      <td>22</td>\n",
       "      <td>179.565240</td>\n",
       "      <td>25.119524</td>\n",
       "      <td>0.015661</td>\n",
       "      <td>0.424296</td>\n",
       "      <td>18.0177</td>\n",
       "      <td>0.549744</td>\n",
       "    </tr>\n",
       "    <tr>\n",
       "      <th>219</th>\n",
       "      <td>32</td>\n",
       "      <td>211.719008</td>\n",
       "      <td>55.039101</td>\n",
       "      <td>0.006525</td>\n",
       "      <td>0.544485</td>\n",
       "      <td>19.9125</td>\n",
       "      <td>0.569996</td>\n",
       "    </tr>\n",
       "    <tr>\n",
       "      <th>220</th>\n",
       "      <td>15</td>\n",
       "      <td>165.703588</td>\n",
       "      <td>50.720856</td>\n",
       "      <td>0.022642</td>\n",
       "      <td>0.463985</td>\n",
       "      <td>12.5296</td>\n",
       "      <td>0.485982</td>\n",
       "    </tr>\n",
       "    <tr>\n",
       "      <th>221</th>\n",
       "      <td>15</td>\n",
       "      <td>165.634107</td>\n",
       "      <td>18.710528</td>\n",
       "      <td>0.033080</td>\n",
       "      <td>0.566106</td>\n",
       "      <td>43.7069</td>\n",
       "      <td>0.734605</td>\n",
       "    </tr>\n",
       "  </tbody>\n",
       "</table>\n",
       "<p>222 rows × 7 columns</p>\n",
       "</div>"
      ],
      "text/plain": [
       "     n_gal          RA        DEC         Z     r_max      M200      R200\n",
       "0      180  246.942018  39.401823  0.031119  1.720684  635.8440  1.794430\n",
       "1       83  247.581739  39.778534  0.028910  1.040201  221.2070  1.262930\n",
       "2      101  246.935701  40.923333  0.031285  1.363890  307.1370  1.407870\n",
       "3       85  247.491124  40.610586  0.029515  1.029668  147.2880  1.102600\n",
       "4       34  246.010700  41.010818  0.030111  1.035922  135.6380  1.072530\n",
       "..     ...         ...        ...       ...       ...       ...       ...\n",
       "217     22  247.144612   8.529292  0.032348  0.760295   54.8312  0.792467\n",
       "218     22  179.565240  25.119524  0.015661  0.424296   18.0177  0.549744\n",
       "219     32  211.719008  55.039101  0.006525  0.544485   19.9125  0.569996\n",
       "220     15  165.703588  50.720856  0.022642  0.463985   12.5296  0.485982\n",
       "221     15  165.634107  18.710528  0.033080  0.566106   43.7069  0.734605\n",
       "\n",
       "[222 rows x 7 columns]"
      ]
     },
     "execution_count": 7,
     "metadata": {},
     "output_type": "execute_result"
    }
   ],
   "source": [
    "sdss_opt_gr"
   ]
  },
  {
   "cell_type": "code",
   "execution_count": 8,
   "id": "cec806df",
   "metadata": {},
   "outputs": [
    {
     "name": "stdout",
     "output_type": "stream",
     "text": [
      "H0 = 67.77\n",
      "Om = 0.30712\n",
      "Ol = 0.69288\n"
     ]
    }
   ],
   "source": [
    "cosmo = Planck13\n",
    "H0 = cosmo.H0.value\n",
    "Om = cosmo.Om0\n",
    "Ol = 0.69288\n",
    "Ok = 0.0\n",
    "print(f'H0 = {cosmo.H0.value}')\n",
    "print(f'Om = {cosmo.Om0}')\n",
    "print(f'Ol = {0.69288}')"
   ]
  },
  {
   "cell_type": "code",
   "execution_count": 9,
   "id": "f2ef5bc0",
   "metadata": {},
   "outputs": [],
   "source": [
    "DPS = disperse.Disperse3D(\n",
    "    sdss_dr7, '_disperse_03/bin/',\n",
    "    H0, Om, Ol, Ok,\n",
    "    clusters=sdss_opt_gr\n",
    ")"
   ]
  },
  {
   "cell_type": "code",
   "execution_count": 10,
   "id": "5cbd10e1",
   "metadata": {},
   "outputs": [],
   "source": [
    "DPS.count_cart_coords()"
   ]
  },
  {
   "cell_type": "code",
   "execution_count": 11,
   "id": "bb0b93b9",
   "metadata": {},
   "outputs": [
    {
     "data": {
      "text/html": [
       "<div>\n",
       "<style scoped>\n",
       "    .dataframe tbody tr th:only-of-type {\n",
       "        vertical-align: middle;\n",
       "    }\n",
       "\n",
       "    .dataframe tbody tr th {\n",
       "        vertical-align: top;\n",
       "    }\n",
       "\n",
       "    .dataframe thead th {\n",
       "        text-align: right;\n",
       "    }\n",
       "</style>\n",
       "<table border=\"1\" class=\"dataframe\">\n",
       "  <thead>\n",
       "    <tr style=\"text-align: right;\">\n",
       "      <th></th>\n",
       "      <th>RA</th>\n",
       "      <th>DEC</th>\n",
       "      <th>Z</th>\n",
       "      <th>CX</th>\n",
       "      <th>CY</th>\n",
       "      <th>CZ</th>\n",
       "    </tr>\n",
       "  </thead>\n",
       "  <tbody>\n",
       "    <tr>\n",
       "      <th>0</th>\n",
       "      <td>146.71421</td>\n",
       "      <td>-1.041304</td>\n",
       "      <td>0.021314</td>\n",
       "      <td>-78.414920</td>\n",
       "      <td>51.481140</td>\n",
       "      <td>-1.705001</td>\n",
       "    </tr>\n",
       "    <tr>\n",
       "      <th>1</th>\n",
       "      <td>147.17639</td>\n",
       "      <td>-0.354057</td>\n",
       "      <td>0.006436</td>\n",
       "      <td>-23.890216</td>\n",
       "      <td>15.410130</td>\n",
       "      <td>-0.175679</td>\n",
       "    </tr>\n",
       "    <tr>\n",
       "      <th>2</th>\n",
       "      <td>146.85676</td>\n",
       "      <td>-0.274040</td>\n",
       "      <td>0.022017</td>\n",
       "      <td>-81.132541</td>\n",
       "      <td>52.976931</td>\n",
       "      <td>-0.463453</td>\n",
       "    </tr>\n",
       "    <tr>\n",
       "      <th>3</th>\n",
       "      <td>146.61904</td>\n",
       "      <td>-0.434322</td>\n",
       "      <td>0.006087</td>\n",
       "      <td>-22.453840</td>\n",
       "      <td>14.794876</td>\n",
       "      <td>-0.203838</td>\n",
       "    </tr>\n",
       "    <tr>\n",
       "      <th>4</th>\n",
       "      <td>146.75170</td>\n",
       "      <td>-0.408392</td>\n",
       "      <td>0.035831</td>\n",
       "      <td>-131.450954</td>\n",
       "      <td>86.177445</td>\n",
       "      <td>-1.120371</td>\n",
       "    </tr>\n",
       "    <tr>\n",
       "      <th>...</th>\n",
       "      <td>...</td>\n",
       "      <td>...</td>\n",
       "      <td>...</td>\n",
       "      <td>...</td>\n",
       "      <td>...</td>\n",
       "      <td>...</td>\n",
       "    </tr>\n",
       "    <tr>\n",
       "      <th>61774</th>\n",
       "      <td>260.39196</td>\n",
       "      <td>31.679209</td>\n",
       "      <td>0.029946</td>\n",
       "      <td>-18.685193</td>\n",
       "      <td>-110.379299</td>\n",
       "      <td>69.085412</td>\n",
       "    </tr>\n",
       "    <tr>\n",
       "      <th>61775</th>\n",
       "      <td>260.64573</td>\n",
       "      <td>31.807949</td>\n",
       "      <td>0.033229</td>\n",
       "      <td>-20.147840</td>\n",
       "      <td>-122.308989</td>\n",
       "      <td>76.880623</td>\n",
       "    </tr>\n",
       "    <tr>\n",
       "      <th>61776</th>\n",
       "      <td>260.73569</td>\n",
       "      <td>31.341986</td>\n",
       "      <td>0.015230</td>\n",
       "      <td>-9.231003</td>\n",
       "      <td>-56.591395</td>\n",
       "      <td>34.920428</td>\n",
       "    </tr>\n",
       "    <tr>\n",
       "      <th>61777</th>\n",
       "      <td>261.10350</td>\n",
       "      <td>31.590881</td>\n",
       "      <td>0.025233</td>\n",
       "      <td>-14.618313</td>\n",
       "      <td>-93.387920</td>\n",
       "      <td>58.131507</td>\n",
       "    </tr>\n",
       "    <tr>\n",
       "      <th>61778</th>\n",
       "      <td>260.74317</td>\n",
       "      <td>31.944035</td>\n",
       "      <td>0.033893</td>\n",
       "      <td>-20.304646</td>\n",
       "      <td>-124.581595</td>\n",
       "      <td>78.703056</td>\n",
       "    </tr>\n",
       "  </tbody>\n",
       "</table>\n",
       "<p>61779 rows × 6 columns</p>\n",
       "</div>"
      ],
      "text/plain": [
       "              RA        DEC         Z          CX          CY         CZ\n",
       "0      146.71421  -1.041304  0.021314  -78.414920   51.481140  -1.705001\n",
       "1      147.17639  -0.354057  0.006436  -23.890216   15.410130  -0.175679\n",
       "2      146.85676  -0.274040  0.022017  -81.132541   52.976931  -0.463453\n",
       "3      146.61904  -0.434322  0.006087  -22.453840   14.794876  -0.203838\n",
       "4      146.75170  -0.408392  0.035831 -131.450954   86.177445  -1.120371\n",
       "...          ...        ...       ...         ...         ...        ...\n",
       "61774  260.39196  31.679209  0.029946  -18.685193 -110.379299  69.085412\n",
       "61775  260.64573  31.807949  0.033229  -20.147840 -122.308989  76.880623\n",
       "61776  260.73569  31.341986  0.015230   -9.231003  -56.591395  34.920428\n",
       "61777  261.10350  31.590881  0.025233  -14.618313  -93.387920  58.131507\n",
       "61778  260.74317  31.944035  0.033893  -20.304646 -124.581595  78.703056\n",
       "\n",
       "[61779 rows x 6 columns]"
      ]
     },
     "execution_count": 11,
     "metadata": {},
     "output_type": "execute_result"
    }
   ],
   "source": [
    "DPS.galaxies"
   ]
  },
  {
   "cell_type": "code",
   "execution_count": 12,
   "id": "68f106c2",
   "metadata": {},
   "outputs": [],
   "source": [
    "SIGMA = 5\n",
    "SMOOTH = 2\n",
    "BOARD = 'smooth'\n",
    "ANGLE = 30"
   ]
  },
  {
   "cell_type": "code",
   "execution_count": 13,
   "id": "6b2b548b",
   "metadata": {},
   "outputs": [
    {
     "name": "stdout",
     "output_type": "stream",
     "text": [
      ">>> delaunay_3D starts\n",
      ">>> mse starts\n",
      ">>> skelconv starts\n",
      ">>> read_skl_ascii_RaDecZ starts\n"
     ]
    }
   ],
   "source": [
    "DPS.apply_disperse(SIGMA, SMOOTH, BOARD, ANGLE)"
   ]
  },
  {
   "cell_type": "code",
   "execution_count": 14,
   "id": "a25eb1ea",
   "metadata": {},
   "outputs": [
    {
     "name": "stderr",
     "output_type": "stream",
     "text": [
      "100%|██████████| 61779/61779 [00:00<00:00, 123603.62it/s]\n"
     ]
    }
   ],
   "source": [
    "input_, mask = DPS.get_seg_mask(3, 3)"
   ]
  },
  {
   "cell_type": "code",
   "execution_count": 15,
   "id": "e636bad9",
   "metadata": {},
   "outputs": [
    {
     "data": {
      "text/plain": [
       "5142.0"
      ]
     },
     "execution_count": 15,
     "metadata": {},
     "output_type": "execute_result"
    }
   ],
   "source": [
    "mask.sum()"
   ]
  },
  {
   "cell_type": "code",
   "execution_count": 16,
   "id": "f47ee47e",
   "metadata": {},
   "outputs": [],
   "source": [
    "import UNet3D"
   ]
  },
  {
   "cell_type": "code",
   "execution_count": 17,
   "id": "f5e9820a",
   "metadata": {},
   "outputs": [],
   "source": [
    "train_dataloader = torch.utils.data.DataLoader(\n",
    "    UNet3D.UNetDataset(input_, mask, 3, 12), \n",
    "    batch_size=8, \n",
    "    shuffle=True\n",
    ")"
   ]
  },
  {
   "cell_type": "code",
   "execution_count": 18,
   "id": "8bbedee0",
   "metadata": {},
   "outputs": [],
   "source": [
    "lr = 0.001\n",
    "model = UNet3D.Unet3DModel(in_channels=1, out_channels=1).double()\n",
    "optim = torch.optim.Adam(params=model.parameters(), lr=lr)\n",
    "criterion = UNet3D.DiceLoss()"
   ]
  },
  {
   "cell_type": "code",
   "execution_count": 19,
   "id": "88214487",
   "metadata": {},
   "outputs": [],
   "source": [
    "trainer = UNet3D.Trainer(model, optim, criterion, 10)"
   ]
  },
  {
   "cell_type": "code",
   "execution_count": null,
   "id": "2d4a4511",
   "metadata": {},
   "outputs": [],
   "source": [
    "trainer.train(train_dataloader)"
   ]
  },
  {
   "cell_type": "code",
   "execution_count": null,
   "id": "60a6ebb2",
   "metadata": {},
   "outputs": [],
   "source": []
  }
 ],
 "metadata": {
  "kernelspec": {
   "display_name": "Python 3",
   "language": "python",
   "name": "python3"
  },
  "language_info": {
   "codemirror_mode": {
    "name": "ipython",
    "version": 3
   },
   "file_extension": ".py",
   "mimetype": "text/x-python",
   "name": "python",
   "nbconvert_exporter": "python",
   "pygments_lexer": "ipython3",
   "version": "3.8.8"
  }
 },
 "nbformat": 4,
 "nbformat_minor": 5
}
