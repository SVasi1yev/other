{
 "cells": [
  {
   "cell_type": "code",
   "execution_count": 1,
   "id": "b4de34ce",
   "metadata": {},
   "outputs": [],
   "source": [
    "import pandas as pd\n",
    "import numpy as np\n",
    "from astropy.cosmology import Planck13\n",
    "from astropy.io import fits\n",
    "from astropy.table import Table\n",
    "from tqdm import tqdm\n",
    "%matplotlib inline\n",
    "import matplotlib.pyplot as plt\n",
    "\n",
    "import disperse"
   ]
  },
  {
   "cell_type": "code",
   "execution_count": 2,
   "id": "dcb7a15b",
   "metadata": {},
   "outputs": [
    {
     "name": "stdout",
     "output_type": "stream",
     "text": [
      "H0 = 67.77\n",
      "Om = 0.30712\n",
      "Ol = 0.69288\n"
     ]
    }
   ],
   "source": [
    "cosmo = Planck13\n",
    "H0 = cosmo.H0.value\n",
    "Om = cosmo.Om0\n",
    "Ol = 0.69288\n",
    "Ok = 0.0\n",
    "print(f'H0 = {cosmo.H0.value}')\n",
    "print(f'Om = {cosmo.Om0}')\n",
    "print(f'Ol = {0.69288}')"
   ]
  },
  {
   "cell_type": "code",
   "execution_count": 3,
   "id": "7a240194",
   "metadata": {},
   "outputs": [
    {
     "name": "stderr",
     "output_type": "stream",
     "text": [
      "<ipython-input-3-6a0bc1962f58>:7: SettingWithCopyWarning: \n",
      "A value is trying to be set on a copy of a slice from a DataFrame.\n",
      "Try using .loc[row_indexer,col_indexer] = value instead\n",
      "\n",
      "See the caveats in the documentation: https://pandas.pydata.org/pandas-docs/stable/user_guide/indexing.html#returning-a-view-versus-a-copy\n",
      "  sdss_opt_gr['R'] = sdss_opt_gr['R200']\n"
     ]
    }
   ],
   "source": [
    "coma_DR12 = pd.read_csv('coma_DR12_filtered_RaDecZ.csv')\n",
    "sdss_opt_gr_full = pd.read_csv('sdss_opt_gr_filtered_RaDecZ.csv')\n",
    "\n",
    "min_n_gals = 6\n",
    "sdss_opt_gr = sdss_opt_gr_full[sdss_opt_gr_full['n_gal'] >= min_n_gals]\n",
    "sdss_opt_gr.reset_index(drop=True, inplace=True)\n",
    "sdss_opt_gr['R'] = sdss_opt_gr['R200']\n",
    "sdss_opt_gr\n",
    "\n",
    "DPS = disperse.Disperse3D(\n",
    "    coma_DR12, '_disperse_03/bin/',\n",
    "    H0, Om, Ol, Ok,\n",
    "    clusters=sdss_opt_gr\n",
    ")"
   ]
  },
  {
   "cell_type": "code",
   "execution_count": 4,
   "id": "5d8c2ef3",
   "metadata": {},
   "outputs": [],
   "source": [
    "DPS.count_cart_coords()"
   ]
  },
  {
   "cell_type": "code",
   "execution_count": 5,
   "id": "37c6099c",
   "metadata": {},
   "outputs": [],
   "source": [
    "SIGMA = 5.0\n",
    "SMOOTH = 1\n",
    "BOARD = 'smooth'\n",
    "ANGLE = 30"
   ]
  },
  {
   "cell_type": "code",
   "execution_count": 6,
   "id": "9aeb8aad",
   "metadata": {},
   "outputs": [],
   "source": [
    "sigmas = [\n",
    "         0.2, 0.4, 0.6, 0.8,\n",
    "    1.0, 1.2, 1.4, 1.6, 1.8,\n",
    "    2.0, 2.2, 2.4, 2.6, 2.8,\n",
    "    3.0, 3.2, 3.4, 3.6, 3.8, \n",
    "    4.0, 4.2, 4.4, 4.6, 4.8, \n",
    "    5.0, 5.2, 5.4, 5.6, 5.8, \n",
    "    6.0, 6.2, 6.4, 6.6, 6.8,\n",
    "    7.0, 7.2, 7.4, 7.6, 7.8,\n",
    "    8.0\n",
    "]"
   ]
  },
  {
   "cell_type": "code",
   "execution_count": 7,
   "id": "30419137",
   "metadata": {},
   "outputs": [
    {
     "name": "stderr",
     "output_type": "stream",
     "text": [
      "  0%|          | 0/40 [00:00<?, ?it/s]\n",
      "100%|██████████| 1046/1046 [00:00<00:00, 13977.76it/s]\n",
      "\n",
      "  0%|          | 0/1046 [00:00<?, ?it/s]\u001b[A"
     ]
    },
    {
     "name": "stdout",
     "output_type": "stream",
     "text": [
      ">>> Generate random clusters\n"
     ]
    },
    {
     "name": "stderr",
     "output_type": "stream",
     "text": [
      "100%|██████████| 1046/1046 [00:00<00:00, 13284.65it/s]\n",
      "\n",
      "100%|██████████| 1046/1046 [00:00<00:00, 13000.35it/s]\n",
      "\n",
      "100%|██████████| 1046/1046 [00:00<00:00, 13480.95it/s]\n",
      "\n",
      "100%|██████████| 1046/1046 [00:00<00:00, 13998.54it/s]\n",
      "100%|██████████| 40/40 [00:35<00:00,  1.11it/s]\n"
     ]
    }
   ],
   "source": [
    "true_cl_dists = []\n",
    "false_cl_dists = []\n",
    "for sigma in tqdm(sigmas):\n",
    "    DPS = disperse.Disperse3D.read(f'coma_dumps/{sigma}/')\n",
    "    DPS.gen_random_clusters()\n",
    "    \n",
    "    cl_conn, fil_conn, cl_dists \\\n",
    "        = DPS.count_conn([3] * DPS.clusters.shape[0])\n",
    "    true_cl_dists.append(np.array(cl_dists)[None,:])\n",
    "    \n",
    "    cl_conn, fil_conn, cl_dists \\\n",
    "        = DPS.count_conn(\n",
    "            [3] * DPS.clusters.shape[0], \n",
    "            DPS.random_clusters[0]\n",
    "        )\n",
    "    false_cl_dists.append(np.array(cl_dists)[None,:])\n",
    "\n",
    "true_dists = np.concatenate(true_cl_dists, axis=0)\n",
    "false_dists = np.concatenate(false_cl_dists, axis=0)"
   ]
  },
  {
   "cell_type": "code",
   "execution_count": 8,
   "id": "dcbd16f2",
   "metadata": {},
   "outputs": [
    {
     "data": {
      "text/plain": [
       "((40, 1046), (40, 1046))"
      ]
     },
     "execution_count": 8,
     "metadata": {},
     "output_type": "execute_result"
    }
   ],
   "source": [
    "true_dists.shape, false_dists.shape"
   ]
  },
  {
   "cell_type": "code",
   "execution_count": 9,
   "id": "7b4d0759",
   "metadata": {},
   "outputs": [],
   "source": [
    "X = np.concatenate((true_dists.T, false_dists.T), axis=0)\n",
    "Y = np.array([1] * DPS.clusters.shape[0] + [0] * DPS.clusters.shape[0])"
   ]
  },
  {
   "cell_type": "code",
   "execution_count": 10,
   "id": "f960f232",
   "metadata": {},
   "outputs": [
    {
     "data": {
      "text/plain": [
       "((2092, 40), (2092,))"
      ]
     },
     "execution_count": 10,
     "metadata": {},
     "output_type": "execute_result"
    }
   ],
   "source": [
    "X.shape, Y.shape"
   ]
  },
  {
   "cell_type": "code",
   "execution_count": 11,
   "id": "6597f346",
   "metadata": {},
   "outputs": [],
   "source": [
    "sigmas = np.array(sigmas)"
   ]
  },
  {
   "cell_type": "code",
   "execution_count": 12,
   "id": "01f69292",
   "metadata": {},
   "outputs": [],
   "source": [
    "from sklearn.linear_model import LinearRegression\n",
    "from sklearn.linear_model import LogisticRegression\n",
    "from sklearn.preprocessing import StandardScaler\n",
    "from sklearn.ensemble import RandomForestClassifier\n",
    "from sklearn.metrics import roc_auc_score"
   ]
  },
  {
   "cell_type": "code",
   "execution_count": 13,
   "id": "a1d6a426",
   "metadata": {},
   "outputs": [],
   "source": [
    "with open('true_sigmas.npy', 'rb') as f:\n",
    "    true_sigmas = np.load(f)\n",
    "with open('false_sigmas.npy', 'rb') as f:\n",
    "    false_sigmas = np.load(f)"
   ]
  },
  {
   "cell_type": "code",
   "execution_count": 34,
   "id": "6beae3db",
   "metadata": {},
   "outputs": [],
   "source": [
    "scores = np.concatenate((true_sigmas[2], false_sigmas[0][2]))"
   ]
  },
  {
   "cell_type": "code",
   "execution_count": 35,
   "id": "2e5f6ca6",
   "metadata": {},
   "outputs": [
    {
     "data": {
      "text/plain": [
       "0.9143303817876715"
      ]
     },
     "execution_count": 35,
     "metadata": {},
     "output_type": "execute_result"
    }
   ],
   "source": [
    "roc_auc_score(Y, scores)"
   ]
  },
  {
   "cell_type": "code",
   "execution_count": 16,
   "id": "c5642293",
   "metadata": {},
   "outputs": [],
   "source": [
    "scores = []\n",
    "for i in range(X.shape[0]):\n",
    "    reg = LinearRegression(fit_intercept=False).fit(sigmas.reshape(-1, 1), X[i].reshape(-1, 1))\n",
    "    scores.append(reg.coef_[0][0])\n",
    "scores = np.array(scores)"
   ]
  },
  {
   "cell_type": "code",
   "execution_count": 17,
   "id": "a2ad0e6d",
   "metadata": {},
   "outputs": [
    {
     "data": {
      "text/plain": [
       "0.8251848981278036"
      ]
     },
     "execution_count": 17,
     "metadata": {},
     "output_type": "execute_result"
    }
   ],
   "source": [
    "roc_auc_score(Y, -scores)"
   ]
  },
  {
   "cell_type": "code",
   "execution_count": 18,
   "id": "a30286f9",
   "metadata": {},
   "outputs": [],
   "source": [
    "scores = []\n",
    "for i in range(X.shape[0]):\n",
    "    reg = LinearRegression(fit_intercept=True).fit(sigmas.reshape(-1, 1), X[i].reshape(-1, 1))\n",
    "    scores.append(reg.coef_[0][0])\n",
    "scores = np.array(scores)"
   ]
  },
  {
   "cell_type": "code",
   "execution_count": 19,
   "id": "a8b02058",
   "metadata": {},
   "outputs": [
    {
     "data": {
      "text/plain": [
       "0.6164689118886845"
      ]
     },
     "execution_count": 19,
     "metadata": {},
     "output_type": "execute_result"
    }
   ],
   "source": [
    "roc_auc_score(Y, -scores)"
   ]
  },
  {
   "cell_type": "code",
   "execution_count": 20,
   "id": "8d74e8fc",
   "metadata": {},
   "outputs": [],
   "source": [
    "from sklearn.model_selection import train_test_split\n",
    "X_train, X_test, Y_train, Y_test = train_test_split(\n",
    "    X, Y, stratify=Y, test_size=0.33\n",
    ")"
   ]
  },
  {
   "cell_type": "code",
   "execution_count": 21,
   "id": "becd8de2",
   "metadata": {},
   "outputs": [],
   "source": [
    "clf = LogisticRegression(random_state=0, max_iter=1000).fit(X_train, Y_train)\n",
    "scores = clf.predict_proba(X_test)[:,1].reshape(-1)"
   ]
  },
  {
   "cell_type": "code",
   "execution_count": 22,
   "id": "9e25a8fd",
   "metadata": {},
   "outputs": [
    {
     "data": {
      "text/plain": [
       "0.9480103878696491"
      ]
     },
     "execution_count": 22,
     "metadata": {},
     "output_type": "execute_result"
    }
   ],
   "source": [
    "roc_auc_score(Y_test, scores)"
   ]
  },
  {
   "cell_type": "code",
   "execution_count": 23,
   "id": "a00f1928",
   "metadata": {},
   "outputs": [],
   "source": [
    "import pickle\n",
    "with open('coma_log_reg.pkl', 'wb') as f:\n",
    "    pickle.dump(clf, f)"
   ]
  },
  {
   "cell_type": "code",
   "execution_count": 24,
   "id": "b3ad1a06",
   "metadata": {},
   "outputs": [],
   "source": [
    "scaler = StandardScaler().fit(X_train)"
   ]
  },
  {
   "cell_type": "code",
   "execution_count": 25,
   "id": "1a129513",
   "metadata": {},
   "outputs": [],
   "source": [
    "clf = LogisticRegression(random_state=0, max_iter=1000).fit(scaler.transform(X_train), Y_train)\n",
    "scores = clf.predict_proba(scaler.transform(X_test))[:,1].reshape(-1)"
   ]
  },
  {
   "cell_type": "code",
   "execution_count": 26,
   "id": "0201a6fe",
   "metadata": {},
   "outputs": [
    {
     "data": {
      "text/plain": [
       "0.9514618413336684"
      ]
     },
     "execution_count": 26,
     "metadata": {},
     "output_type": "execute_result"
    }
   ],
   "source": [
    "roc_auc_score(Y_test, scores)"
   ]
  },
  {
   "cell_type": "code",
   "execution_count": 27,
   "id": "52bbffcc",
   "metadata": {},
   "outputs": [],
   "source": [
    "import torch\n",
    "import torch.nn as nn\n",
    "import torch.nn.functional as F"
   ]
  },
  {
   "cell_type": "code",
   "execution_count": 28,
   "id": "918508c7",
   "metadata": {},
   "outputs": [],
   "source": [
    "class Net(nn.Module):\n",
    "    def __init__(self):\n",
    "        super(Net, self).__init__()\n",
    "        self.fc1 = nn.Linear(40, 32)\n",
    "        self.fc2 = nn.Linear(32, 1)\n",
    "\n",
    "    def forward(self, x):\n",
    "        x = self.fc1(x)\n",
    "        x = F.relu(x)\n",
    "        x = self.fc2(x)\n",
    "\n",
    "        out = F.sigmoid(x)\n",
    "        return out"
   ]
  },
  {
   "cell_type": "code",
   "execution_count": 29,
   "id": "29508c59",
   "metadata": {},
   "outputs": [
    {
     "name": "stderr",
     "output_type": "stream",
     "text": [
      "/home/svasilyev/anaconda3/lib/python3.8/site-packages/torch/nn/functional.py:1806: UserWarning: nn.functional.sigmoid is deprecated. Use torch.sigmoid instead.\n",
      "  warnings.warn(\"nn.functional.sigmoid is deprecated. Use torch.sigmoid instead.\")\n"
     ]
    },
    {
     "name": "stdout",
     "output_type": "stream",
     "text": [
      "epoch: 200, train_loss=0.45080432295799255, test_loss=0.44894078373908997\n",
      "epoch: 400, train_loss=0.4041898250579834, test_loss=0.4051772952079773\n",
      "epoch: 600, train_loss=0.37194156646728516, test_loss=0.3764004111289978\n",
      "epoch: 800, train_loss=0.3476908206939697, test_loss=0.3561490774154663\n",
      "epoch: 1000, train_loss=0.3438173532485962, test_loss=0.3566409945487976\n",
      "epoch: 1200, train_loss=0.32735317945480347, test_loss=0.34268078207969666\n",
      "epoch: 1400, train_loss=0.3138446807861328, test_loss=0.33203232288360596\n",
      "epoch: 1600, train_loss=0.30566471815109253, test_loss=0.3268688917160034\n",
      "epoch: 1800, train_loss=0.30024221539497375, test_loss=0.3237744867801666\n",
      "epoch: 2000, train_loss=0.2945757508277893, test_loss=0.3199467360973358\n",
      "epoch: 2200, train_loss=0.28886693716049194, test_loss=0.31524229049682617\n",
      "epoch: 2400, train_loss=0.28261449933052063, test_loss=0.3112972676753998\n",
      "epoch: 2600, train_loss=0.2795086205005646, test_loss=0.3095717132091522\n",
      "epoch: 2800, train_loss=0.27569580078125, test_loss=0.30708619952201843\n",
      "epoch: 3000, train_loss=0.27240341901779175, test_loss=0.30507007241249084\n",
      "epoch: 3200, train_loss=0.26991820335388184, test_loss=0.3032175302505493\n",
      "epoch: 3400, train_loss=0.26651057600975037, test_loss=0.301472544670105\n",
      "epoch: 3600, train_loss=0.26430898904800415, test_loss=0.30165088176727295\n",
      "epoch: 3800, train_loss=0.2629578709602356, test_loss=0.30111196637153625\n",
      "epoch: 4000, train_loss=0.2586071789264679, test_loss=0.2986358404159546\n"
     ]
    }
   ],
   "source": [
    "torch.manual_seed(0)\n",
    "model = Net()\n",
    "criterion = torch.nn.BCELoss()\n",
    "optimizer = torch.optim.SGD(model.parameters(),lr=0.01)\n",
    "number_of_epochs = 4000\n",
    "for epoch in range(number_of_epochs):\n",
    "    Y_pred = model(torch.Tensor(X_train))\n",
    "    loss = criterion(Y_pred, torch.Tensor(Y_train).view(-1, 1))\n",
    "    loss.backward()\n",
    "    optimizer.step()\n",
    "    optimizer.zero_grad()\n",
    "    if (epoch+1)%200 == 0:\n",
    "        Y_pred = model(torch.Tensor(X_test))\n",
    "        test_loss = criterion(Y_pred, torch.Tensor(Y_test).view(-1, 1))\n",
    "        print(f'epoch: {epoch+1}, train_loss={loss.item()}, test_loss={test_loss}')"
   ]
  },
  {
   "cell_type": "code",
   "execution_count": 30,
   "id": "dfbea9ae",
   "metadata": {},
   "outputs": [],
   "source": [
    "scores = model(torch.Tensor(X_test)).view(-1).detach().numpy()"
   ]
  },
  {
   "cell_type": "code",
   "execution_count": 31,
   "id": "50f352ee",
   "metadata": {},
   "outputs": [
    {
     "data": {
      "text/plain": [
       "0.9444165200636676"
      ]
     },
     "execution_count": 31,
     "metadata": {},
     "output_type": "execute_result"
    }
   ],
   "source": [
    "roc_auc_score(Y_test, scores)"
   ]
  },
  {
   "cell_type": "code",
   "execution_count": 32,
   "id": "05abcfc2",
   "metadata": {},
   "outputs": [],
   "source": [
    "clf = RandomForestClassifier(\n",
    "    max_depth=4, \n",
    "    random_state=0,\n",
    "    n_estimators=500,\n",
    "    max_features='auto'\n",
    ").fit(X_train, Y_train)\n",
    "scores = clf.predict_proba(X_test)[:,1].reshape(-1)"
   ]
  },
  {
   "cell_type": "code",
   "execution_count": 33,
   "id": "b7e2f45d",
   "metadata": {},
   "outputs": [
    {
     "data": {
      "text/plain": [
       "0.9532336432939599"
      ]
     },
     "execution_count": 33,
     "metadata": {},
     "output_type": "execute_result"
    }
   ],
   "source": [
    "roc_auc_score(Y_test, scores)"
   ]
  }
 ],
 "metadata": {
  "kernelspec": {
   "display_name": "Python 3",
   "language": "python",
   "name": "python3"
  },
  "language_info": {
   "codemirror_mode": {
    "name": "ipython",
    "version": 3
   },
   "file_extension": ".py",
   "mimetype": "text/x-python",
   "name": "python",
   "nbconvert_exporter": "python",
   "pygments_lexer": "ipython3",
   "version": "3.8.8"
  }
 },
 "nbformat": 4,
 "nbformat_minor": 5
}
