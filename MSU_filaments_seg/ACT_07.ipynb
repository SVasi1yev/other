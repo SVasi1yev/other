{
 "cells": [
  {
   "cell_type": "code",
   "execution_count": 2,
   "id": "74c6c95e",
   "metadata": {},
   "outputs": [],
   "source": [
    "import pandas as pd\n",
    "import numpy as np\n",
    "import os\n",
    "import time\n",
    "from astropy.cosmology import Planck13\n",
    "from astropy.io import fits\n",
    "from astropy.table import Table\n",
    "from tqdm import tqdm\n",
    "%matplotlib inline\n",
    "import matplotlib.pyplot as plt\n",
    "\n",
    "import disperse\n",
    "\n",
    "from sklearn.neighbors import KDTree\n",
    "from sklearn.decomposition import PCA\n",
    "\n",
    "from sklearn.linear_model import LinearRegression\n",
    "from sklearn.linear_model import LogisticRegression\n",
    "from sklearn.preprocessing import StandardScaler\n",
    "from sklearn.ensemble import RandomForestClassifier\n",
    "from sklearn.metrics import roc_auc_score\n",
    "from sklearn.model_selection import train_test_split\n",
    "from sklearn.model_selection import StratifiedKFold\n",
    "import lightgbm as lgbm\n",
    "\n",
    "import torch\n",
    "import torch.nn as nn\n",
    "import torch.nn.functional as F\n",
    "from torch.utils.data import Dataset, DataLoader"
   ]
  },
  {
   "cell_type": "code",
   "execution_count": 2,
   "id": "5feb0252",
   "metadata": {},
   "outputs": [
    {
     "name": "stdout",
     "output_type": "stream",
     "text": [
      "H0 = 67.77\n",
      "Om = 0.30712\n",
      "Ol = 0.69288\n"
     ]
    }
   ],
   "source": [
    "cosmo = Planck13\n",
    "H0 = cosmo.H0.value\n",
    "Om = cosmo.Om0\n",
    "Ol = 0.69288\n",
    "Ok = 0.0\n",
    "print(f'H0 = {cosmo.H0.value}')\n",
    "print(f'Om = {cosmo.Om0}')\n",
    "print(f'Ol = {0.69288}')"
   ]
  },
  {
   "cell_type": "code",
   "execution_count": 3,
   "id": "e0bd46b7",
   "metadata": {},
   "outputs": [],
   "source": [
    "np.random.seed(0)"
   ]
  },
  {
   "cell_type": "code",
   "execution_count": 4,
   "id": "fc1e5d76",
   "metadata": {},
   "outputs": [],
   "source": [
    "gal_RA_int = (160, 170)\n",
    "gal_DEC_int = (10, 30)\n",
    "gal_Z_int = (0, 0.35)"
   ]
  },
  {
   "cell_type": "code",
   "execution_count": 5,
   "id": "a812c357",
   "metadata": {},
   "outputs": [
    {
     "data": {
      "text/html": [
       "<div>\n",
       "<style scoped>\n",
       "    .dataframe tbody tr th:only-of-type {\n",
       "        vertical-align: middle;\n",
       "    }\n",
       "\n",
       "    .dataframe tbody tr th {\n",
       "        vertical-align: top;\n",
       "    }\n",
       "\n",
       "    .dataframe thead th {\n",
       "        text-align: right;\n",
       "    }\n",
       "</style>\n",
       "<table border=\"1\" class=\"dataframe\">\n",
       "  <thead>\n",
       "    <tr style=\"text-align: right;\">\n",
       "      <th></th>\n",
       "      <th>RA</th>\n",
       "      <th>DEC</th>\n",
       "      <th>Z</th>\n",
       "    </tr>\n",
       "  </thead>\n",
       "  <tbody>\n",
       "    <tr>\n",
       "      <th>0</th>\n",
       "      <td>164.13474</td>\n",
       "      <td>26.790246</td>\n",
       "      <td>0.000003</td>\n",
       "    </tr>\n",
       "    <tr>\n",
       "      <th>1</th>\n",
       "      <td>162.08272</td>\n",
       "      <td>23.984703</td>\n",
       "      <td>0.000106</td>\n",
       "    </tr>\n",
       "    <tr>\n",
       "      <th>2</th>\n",
       "      <td>164.76902</td>\n",
       "      <td>23.847157</td>\n",
       "      <td>0.000217</td>\n",
       "    </tr>\n",
       "    <tr>\n",
       "      <th>3</th>\n",
       "      <td>160.55152</td>\n",
       "      <td>15.811902</td>\n",
       "      <td>0.000261</td>\n",
       "    </tr>\n",
       "    <tr>\n",
       "      <th>4</th>\n",
       "      <td>169.92497</td>\n",
       "      <td>12.191744</td>\n",
       "      <td>0.000266</td>\n",
       "    </tr>\n",
       "    <tr>\n",
       "      <th>...</th>\n",
       "      <td>...</td>\n",
       "      <td>...</td>\n",
       "      <td>...</td>\n",
       "    </tr>\n",
       "    <tr>\n",
       "      <th>22932</th>\n",
       "      <td>164.78757</td>\n",
       "      <td>19.524217</td>\n",
       "      <td>0.349843</td>\n",
       "    </tr>\n",
       "    <tr>\n",
       "      <th>22933</th>\n",
       "      <td>163.76657</td>\n",
       "      <td>15.425962</td>\n",
       "      <td>0.349851</td>\n",
       "    </tr>\n",
       "    <tr>\n",
       "      <th>22934</th>\n",
       "      <td>163.45121</td>\n",
       "      <td>16.225088</td>\n",
       "      <td>0.349855</td>\n",
       "    </tr>\n",
       "    <tr>\n",
       "      <th>22935</th>\n",
       "      <td>167.45495</td>\n",
       "      <td>13.181810</td>\n",
       "      <td>0.349908</td>\n",
       "    </tr>\n",
       "    <tr>\n",
       "      <th>22936</th>\n",
       "      <td>163.20479</td>\n",
       "      <td>16.299538</td>\n",
       "      <td>0.349955</td>\n",
       "    </tr>\n",
       "  </tbody>\n",
       "</table>\n",
       "<p>22937 rows × 3 columns</p>\n",
       "</div>"
      ],
      "text/plain": [
       "              RA        DEC         Z\n",
       "0      164.13474  26.790246  0.000003\n",
       "1      162.08272  23.984703  0.000106\n",
       "2      164.76902  23.847157  0.000217\n",
       "3      160.55152  15.811902  0.000261\n",
       "4      169.92497  12.191744  0.000266\n",
       "...          ...        ...       ...\n",
       "22932  164.78757  19.524217  0.349843\n",
       "22933  163.76657  15.425962  0.349851\n",
       "22934  163.45121  16.225088  0.349855\n",
       "22935  167.45495  13.181810  0.349908\n",
       "22936  163.20479  16.299538  0.349955\n",
       "\n",
       "[22937 rows x 3 columns]"
      ]
     },
     "execution_count": 5,
     "metadata": {},
     "output_type": "execute_result"
    }
   ],
   "source": [
    "galaxies = pd.read_csv('ACT_06_galaxies.csv')\n",
    "galaxies = galaxies[(gal_RA_int[0] <= galaxies['RA']) & (galaxies['RA'] <= gal_RA_int[1])]\n",
    "galaxies = galaxies[(gal_DEC_int[0] <= galaxies['DEC']) & (galaxies['DEC'] <= gal_DEC_int[1])]\n",
    "galaxies = galaxies[(gal_Z_int[0] < galaxies['Z']) & (galaxies['Z'] <= gal_Z_int[1])]\n",
    "galaxies = galaxies[['RA', 'DEC', 'Z']]\n",
    "galaxies.reset_index(drop=True, inplace=True)\n",
    "galaxies"
   ]
  },
  {
   "cell_type": "code",
   "execution_count": 6,
   "id": "01862de4",
   "metadata": {},
   "outputs": [
    {
     "name": "stdout",
     "output_type": "stream",
     "text": [
      "desidr9_galaxy_cspcat_cut_ra160_170.fits\r\n",
      "desidr9_galaxy_cspcat_cut_ra170_180.fits\r\n",
      "desidr9_galaxy_cspcat_cut_ra180_190.fits\r\n",
      "desidr9_galaxy_cspcat_cut_ra190_200.fits\r\n",
      "desidr9_galaxy_cspcat_cut_ra200_210.fits\r\n",
      "desidr9_galaxy_cspcat_cut_ra210_220.fits\r\n",
      "desidr9_galaxy_cspcat_cut_ra220_230.fits\r\n",
      "desidr9_galaxy_cspcat_cut_ra230_240.fits\r\n",
      "desidr9_galaxy_cspcat_cut_ra240_250.fits\r\n",
      "desidr9_galaxy_cspcat_cut_ra250_260.fits\r\n",
      "desidr9_galaxy_cspcat_cut_ra260_270.fits\r\n",
      "desidr9_galaxy_cspcat_cut_ra270_280.fits\r\n",
      "desidr9_galaxy_cspcat_cut_ra280_290.fits\r\n",
      "desidr9_galaxy_cspcat_cut_ra290_300.fits\r\n",
      "desidr9_galaxy_cspcat_cut_ra300_310.fits\r\n",
      "desidr9_galaxy_cspcat_cut_ra310_320.fits\r\n",
      "desidr9_galaxy_cspcat_cut_ra320_330.fits\r\n",
      "desidr9_galaxy_cspcat_cut_ra330_340.fits\r\n",
      "desidr9_galaxy_cspcat_cut_ra340_350.fits\r\n",
      "desidr9_galaxy_cspcat_cut_ra350_360.fits\r\n"
     ]
    }
   ],
   "source": [
    "!ls Zou2022_desidr9_galaxy_photoz_cut"
   ]
  },
  {
   "cell_type": "code",
   "execution_count": 7,
   "id": "a38afeb4",
   "metadata": {},
   "outputs": [
    {
     "data": {
      "text/html": [
       "<div>\n",
       "<style scoped>\n",
       "    .dataframe tbody tr th:only-of-type {\n",
       "        vertical-align: middle;\n",
       "    }\n",
       "\n",
       "    .dataframe tbody tr th {\n",
       "        vertical-align: top;\n",
       "    }\n",
       "\n",
       "    .dataframe thead th {\n",
       "        text-align: right;\n",
       "    }\n",
       "</style>\n",
       "<table border=\"1\" class=\"dataframe\">\n",
       "  <thead>\n",
       "    <tr style=\"text-align: right;\">\n",
       "      <th></th>\n",
       "      <th>RA</th>\n",
       "      <th>DEC</th>\n",
       "      <th>Z</th>\n",
       "    </tr>\n",
       "  </thead>\n",
       "  <tbody>\n",
       "    <tr>\n",
       "      <th>0</th>\n",
       "      <td>163.752814</td>\n",
       "      <td>10.576262</td>\n",
       "      <td>0.294101</td>\n",
       "    </tr>\n",
       "    <tr>\n",
       "      <th>1</th>\n",
       "      <td>163.753742</td>\n",
       "      <td>10.563613</td>\n",
       "      <td>0.327732</td>\n",
       "    </tr>\n",
       "    <tr>\n",
       "      <th>2</th>\n",
       "      <td>163.755010</td>\n",
       "      <td>10.480780</td>\n",
       "      <td>0.221377</td>\n",
       "    </tr>\n",
       "    <tr>\n",
       "      <th>3</th>\n",
       "      <td>163.756583</td>\n",
       "      <td>10.591307</td>\n",
       "      <td>0.145610</td>\n",
       "    </tr>\n",
       "    <tr>\n",
       "      <th>4</th>\n",
       "      <td>163.760412</td>\n",
       "      <td>10.383378</td>\n",
       "      <td>0.097960</td>\n",
       "    </tr>\n",
       "    <tr>\n",
       "      <th>...</th>\n",
       "      <td>...</td>\n",
       "      <td>...</td>\n",
       "      <td>...</td>\n",
       "    </tr>\n",
       "    <tr>\n",
       "      <th>390427</th>\n",
       "      <td>162.597444</td>\n",
       "      <td>25.141759</td>\n",
       "      <td>0.328303</td>\n",
       "    </tr>\n",
       "    <tr>\n",
       "      <th>390428</th>\n",
       "      <td>162.598110</td>\n",
       "      <td>25.276162</td>\n",
       "      <td>0.158229</td>\n",
       "    </tr>\n",
       "    <tr>\n",
       "      <th>390429</th>\n",
       "      <td>162.601881</td>\n",
       "      <td>25.286901</td>\n",
       "      <td>0.211617</td>\n",
       "    </tr>\n",
       "    <tr>\n",
       "      <th>390430</th>\n",
       "      <td>162.602897</td>\n",
       "      <td>25.159864</td>\n",
       "      <td>0.188006</td>\n",
       "    </tr>\n",
       "    <tr>\n",
       "      <th>390431</th>\n",
       "      <td>162.603913</td>\n",
       "      <td>25.137156</td>\n",
       "      <td>0.256476</td>\n",
       "    </tr>\n",
       "  </tbody>\n",
       "</table>\n",
       "<p>390432 rows × 3 columns</p>\n",
       "</div>"
      ],
      "text/plain": [
       "                RA        DEC         Z\n",
       "0       163.752814  10.576262  0.294101\n",
       "1       163.753742  10.563613  0.327732\n",
       "2       163.755010  10.480780  0.221377\n",
       "3       163.756583  10.591307  0.145610\n",
       "4       163.760412  10.383378  0.097960\n",
       "...            ...        ...       ...\n",
       "390427  162.597444  25.141759  0.328303\n",
       "390428  162.598110  25.276162  0.158229\n",
       "390429  162.601881  25.286901  0.211617\n",
       "390430  162.602897  25.159864  0.188006\n",
       "390431  162.603913  25.137156  0.256476\n",
       "\n",
       "[390432 rows x 3 columns]"
      ]
     },
     "execution_count": 7,
     "metadata": {},
     "output_type": "execute_result"
    }
   ],
   "source": [
    "dat = Table.read(\n",
    "    'Zou2022_desidr9_galaxy_photoz_cut/desidr9_galaxy_cspcat_cut_ra160_170.fits', \n",
    "    format='fits'\n",
    ")\n",
    "photo_160_170 = dat.to_pandas()\n",
    "photo_160_170 = photo_160_170[['RA', 'DEC', 'photo_z']]\n",
    "photo_160_170.columns = ['RA', 'DEC', 'Z']\n",
    "photo_160_170 = photo_160_170[(gal_RA_int[0] <= photo_160_170['RA']) & (photo_160_170['RA'] <= gal_RA_int[1])]\n",
    "photo_160_170 = photo_160_170[(gal_DEC_int[0] <= photo_160_170['DEC']) & (photo_160_170['DEC'] <= gal_DEC_int[1])]\n",
    "photo_160_170 = photo_160_170[(gal_Z_int[0] < photo_160_170['Z']) & (photo_160_170['Z'] <= gal_Z_int[1])]\n",
    "photo_160_170.reset_index(drop=True, inplace=True)\n",
    "photo_160_170"
   ]
  },
  {
   "cell_type": "code",
   "execution_count": 8,
   "id": "cf023e0a",
   "metadata": {},
   "outputs": [],
   "source": [
    "SIGMA = 5.0\n",
    "SMOOTH = 1\n",
    "BOARD = 'smooth'\n",
    "ANGLE = 30"
   ]
  },
  {
   "cell_type": "code",
   "execution_count": 9,
   "id": "242ca93f",
   "metadata": {},
   "outputs": [],
   "source": [
    "DPS = disperse.Disperse3D(\n",
    "    photo_160_170, '_disperse_03/bin/',\n",
    "    H0, Om, Ol, Ok,\n",
    "    clusters=None\n",
    ")\n",
    "DPS.count_cart_coords()"
   ]
  },
  {
   "cell_type": "code",
   "execution_count": 10,
   "id": "53bac488",
   "metadata": {},
   "outputs": [
    {
     "name": "stdout",
     "output_type": "stream",
     "text": [
      ">>> delaunay_3D starts\n",
      ">>> mse starts\n",
      ">>> skelconv starts\n",
      ">>> read_skl_ascii_RaDecZ starts\n",
      ">>> delaunay_3D starts\n",
      ">>> mse starts\n",
      ">>> skelconv starts\n",
      ">>> read_skl_ascii_RaDecZ starts\n",
      ">>> delaunay_3D starts\n",
      ">>> mse starts\n",
      ">>> skelconv starts\n",
      ">>> read_skl_ascii_RaDecZ starts\n",
      "92.57711378733318\n"
     ]
    }
   ],
   "source": [
    "start = time.time()\n",
    "for i in range(3):\n",
    "    DPS.apply_disperse(SIGMA, SMOOTH, BOARD, ANGLE)\n",
    "print((time.time() - start) / 3)"
   ]
  },
  {
   "cell_type": "code",
   "execution_count": 5,
   "id": "73ae904d",
   "metadata": {},
   "outputs": [
    {
     "data": {
      "text/plain": [
       "[<matplotlib.lines.Line2D at 0x7f240040dfd0>]"
      ]
     },
     "execution_count": 5,
     "metadata": {},
     "output_type": "execute_result"
    },
    {
     "data": {
      "image/png": "[encoded data removed]",
      "text/plain": [
       "<Figure size 1440x864 with 1 Axes>"
      ]
     },
     "metadata": {
      "needs_background": "light"
     },
     "output_type": "display_data"
    }
   ],
   "source": [
    "font = {'size': 16}\n",
    "plt.rc('font', **font)\n",
    "fig = plt.figure(figsize=(20, 12))\n",
    "plt.grid()\n",
    "\n",
    "n = np.array([7349, 24296, 61687, 116267, 190854, 291030, 390432])\n",
    "t = np.array([2, 6, 14.22, 27.16, 45.68, 69.25, 92.58])\n",
    "\n",
    "k = 0.00024\n",
    "b = 0\n",
    "t_pred = k * n + b\n",
    "plt.plot(n, t, marker='o')\n",
    "# plt.plot(n, t_pred)"
   ]
  },
  {
   "cell_type": "code",
   "execution_count": null,
   "id": "57aace03",
   "metadata": {},
   "outputs": [],
   "source": []
  }
 ],
 "metadata": {
  "kernelspec": {
   "display_name": "Python 3",
   "language": "python",
   "name": "python3"
  },
  "language_info": {
   "codemirror_mode": {
    "name": "ipython",
    "version": 3
   },
   "file_extension": ".py",
   "mimetype": "text/x-python",
   "name": "python",
   "nbconvert_exporter": "python",
   "pygments_lexer": "ipython3",
   "version": "3.8.8"
  }
 },
 "nbformat": 4,
 "nbformat_minor": 5
}
