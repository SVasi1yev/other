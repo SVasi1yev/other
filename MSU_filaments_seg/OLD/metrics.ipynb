{
 "cells": [
  {
   "cell_type": "code",
   "execution_count": 1,
   "id": "85a62c20",
   "metadata": {},
   "outputs": [
    {
     "ename": "ModuleNotFoundError",
     "evalue": "No module named 'disperse'",
     "output_type": "error",
     "traceback": [
      "\u001b[0;31m---------------------------------------------------------------------------\u001b[0m",
      "\u001b[0;31mModuleNotFoundError\u001b[0m                       Traceback (most recent call last)",
      "\u001b[0;32m<ipython-input-1-ae9df7cd352b>\u001b[0m in \u001b[0;36m<module>\u001b[0;34m\u001b[0m\n\u001b[1;32m      2\u001b[0m \u001b[0;32mimport\u001b[0m \u001b[0mpandas\u001b[0m \u001b[0;32mas\u001b[0m \u001b[0mpd\u001b[0m\u001b[0;34m\u001b[0m\u001b[0;34m\u001b[0m\u001b[0m\n\u001b[1;32m      3\u001b[0m \u001b[0;32mimport\u001b[0m \u001b[0mnumpy\u001b[0m \u001b[0;32mas\u001b[0m \u001b[0mnp\u001b[0m\u001b[0;34m\u001b[0m\u001b[0;34m\u001b[0m\u001b[0m\n\u001b[0;32m----> 4\u001b[0;31m \u001b[0;32mimport\u001b[0m \u001b[0mdisperse\u001b[0m\u001b[0;34m\u001b[0m\u001b[0;34m\u001b[0m\u001b[0m\n\u001b[0m\u001b[1;32m      5\u001b[0m \u001b[0;32mfrom\u001b[0m \u001b[0mtqdm\u001b[0m \u001b[0;32mimport\u001b[0m \u001b[0mtqdm\u001b[0m\u001b[0;34m\u001b[0m\u001b[0;34m\u001b[0m\u001b[0m\n\u001b[1;32m      6\u001b[0m \u001b[0;32mimport\u001b[0m \u001b[0mjson\u001b[0m\u001b[0;34m\u001b[0m\u001b[0;34m\u001b[0m\u001b[0m\n",
      "\u001b[0;31mModuleNotFoundError\u001b[0m: No module named 'disperse'"
     ]
    }
   ],
   "source": [
    "from astropy.cosmology import Planck13\n",
    "import pandas as pd\n",
    "import numpy as np\n",
    "import disperse\n",
    "from tqdm import tqdm\n",
    "import json\n",
    "%matplotlib inline\n",
    "import matplotlib.pyplot as plt"
   ]
  },
  {
   "cell_type": "code",
   "execution_count": null,
   "id": "523b62f8",
   "metadata": {},
   "outputs": [],
   "source": [
    "cosmo = Planck13\n",
    "\n",
    "H0 = cosmo.H0.value\n",
    "Om = cosmo.Om0\n",
    "Ol = 0.69288\n",
    "Ok = 0.0\n",
    "\n",
    "sph2cart = 'dist'\n",
    "in_cart_coords = True\n",
    "\n",
    "BOARD = 'smooth'\n",
    "ANGLE = 30"
   ]
  },
  {
   "cell_type": "code",
   "execution_count": null,
   "id": "c79bc263",
   "metadata": {},
   "outputs": [],
   "source": [
    "coma_DR7 = pd.read_csv('coma_DR7_filtered_RaDecZ.csv')\n",
    "coma_DR12 = pd.read_csv('coma_DR12_filtered_RaDecZ.csv')\n",
    "rosat = pd.read_csv('rosat_filtered_RaDecZ.csv')\n",
    "sdss_opt_gr_full = pd.read_csv('sdss_opt_gr_filtered_RaDecZ.csv')"
   ]
  },
  {
   "cell_type": "code",
   "execution_count": null,
   "id": "39a61678",
   "metadata": {},
   "outputs": [],
   "source": [
    "# N_GAL >= 15"
   ]
  },
  {
   "cell_type": "code",
   "execution_count": null,
   "id": "38332cd3",
   "metadata": {},
   "outputs": [],
   "source": [
    "min_n_gals = 15"
   ]
  },
  {
   "cell_type": "code",
   "execution_count": null,
   "id": "2a6ef92c",
   "metadata": {},
   "outputs": [],
   "source": [
    "sdss_opt_gr = sdss_opt_gr_full[sdss_opt_gr_full['n_gal'] >= min_n_gals]\n",
    "sdss_opt_gr.reset_index(drop=True, inplace=True)"
   ]
  },
  {
   "cell_type": "code",
   "execution_count": null,
   "id": "1d1678eb",
   "metadata": {},
   "outputs": [],
   "source": [
    "DPS = disperse.Disperse3D(\n",
    "    coma_DR12, sdss_opt_gr, '_disperse_03/bin/',\n",
    "    H0, Om, Ol, Ok,\n",
    "    sph2cart_f=sph2cart\n",
    ")\n",
    "DPS.count_cart_coords()\n",
    "\n",
    "CX = DPS.galaxies['CX']\n",
    "CY = DPS.galaxies['CY']\n",
    "CZ = DPS.galaxies['CZ']\n",
    "\n",
    "CX_int = (CX.min(), CX.max())\n",
    "CY_int = (CY.min(), CY.max())\n",
    "CZ_int = (CZ.min(), CZ.max())\n",
    "\n",
    "np.random.seed(0)\n",
    "\n",
    "random_clusters_num = 5\n",
    "random_clusters = []\n",
    "for i in range(random_clusters_num):\n",
    "    cx = np.random.uniform(CX_int[0], CX_int[1], DPS.clusters.shape[0])\n",
    "    cy = np.random.uniform(CY_int[0], CY_int[1], DPS.clusters.shape[0])\n",
    "    cz = np.random.uniform(CZ_int[0], CZ_int[1], DPS.clusters.shape[0])\n",
    "    df = pd.DataFrame()\n",
    "    df = df.assign(CX=cx)\n",
    "    df = df.assign(CY=cy)\n",
    "    df = df.assign(CZ=cz)\n",
    "    df = df.assign(R200=DPS.clusters['R200'])\n",
    "    random_clusters.append(df)"
   ]
  },
  {
   "cell_type": "code",
   "execution_count": null,
   "id": "38881ade",
   "metadata": {},
   "outputs": [],
   "source": [
    "random_clusters[0]"
   ]
  },
  {
   "cell_type": "code",
   "execution_count": null,
   "id": "512a7e90",
   "metadata": {},
   "outputs": [],
   "source": [
    "metrics = {}"
   ]
  },
  {
   "cell_type": "code",
   "execution_count": null,
   "id": "af7fff30",
   "metadata": {},
   "outputs": [],
   "source": [
    "RAD_COEFS = list(np.arange(1, 20, 1.0))\n",
    "metrics['mode'] = 'MPC'\n",
    "metrics['COEFS'] = RAD_COEFS\n",
    "metrics['min_n_gals'] = min_n_gals\n",
    "metrics['total_clusters'] = sdss_opt_gr.shape[0]"
   ]
  },
  {
   "cell_type": "code",
   "execution_count": null,
   "id": "4731b86f",
   "metadata": {},
   "outputs": [],
   "source": [
    "for SIGMA in list(np.arange(3, 5.5, 1.0)):\n",
    "    metrics[SIGMA] = {}\n",
    "    for SMOOTH in range(0, 3):\n",
    "        metrics[SIGMA][SMOOTH] = {}\n",
    "        DPS = disperse.Disperse3D(\n",
    "            coma_DR12, sdss_opt_gr, '_disperse_03/bin/',\n",
    "            H0, Om, Ol, Ok,\n",
    "            sph2cart_f=sph2cart\n",
    "        )\n",
    "        DPS.count_cart_coords()\n",
    "        DPS.apply_disperse(SIGMA, SMOOTH, BOARD, ANGLE, in_cart_coords)\n",
    "        true_inter = []\n",
    "        true_fils_inter = []\n",
    "        for COEF in tqdm(RAD_COEFS):\n",
    "            cl_conn, fils_conn = DPS.count_conn(\n",
    "                [COEF] * sdss_opt_gr.shape[0]\n",
    "            )\n",
    "            true_inter.append(sum(list(map(lambda x: int(x>0), cl_conn))))\n",
    "            true_fils_inter.append(sum(list(map(lambda x: int(x>0), fils_conn))))\n",
    "        true_inter = np.array(true_inter)\n",
    "        true_fils_inter = np.array(true_fils_inter)\n",
    "        \n",
    "        false_inter = []\n",
    "        false_fils_inter = []\n",
    "        for i in tqdm(range(random_clusters_num)):\n",
    "            false_inter.append([])\n",
    "            false_fils_inter.append([])\n",
    "            for COEF in RAD_COEFS:\n",
    "                cl_conn, fils_conn = DPS.count_conn(\n",
    "                    [COEF] * sdss_opt_gr.shape[0],\n",
    "#                     sdss_opt_gr['R200'] * COEF,\n",
    "                    random_clusters[i]\n",
    "                )\n",
    "                false_inter[i].append(sum(list(map(lambda x: int(x>0), cl_conn))))\n",
    "                false_fils_inter[i].append(sum(list(map(lambda x: int(x>0), fils_conn))))\n",
    "                \n",
    "        false_inter = np.array(false_inter).mean(0)\n",
    "        false_fils_inter = np.array(false_fils_inter).mean(0)\n",
    "        \n",
    "        diff = true_inter - false_inter\n",
    "        fils_diff = true_fils_inter - false_fils_inter\n",
    "        \n",
    "        true_inter = [int(e) for e in true_inter]\n",
    "        false_inter = [float(e) for e in false_inter]\n",
    "        diff = [float(e) for e in diff]\n",
    "        true_fils_inter = [int(e) for e in true_fils_inter]\n",
    "        false_fils_inter = [int(e) for e in false_fils_inter]\n",
    "        fils_diff = [int(e) for e in fils_diff]\n",
    "        \n",
    "        metrics[SIGMA][SMOOTH]['true'] = list(true_inter)\n",
    "        metrics[SIGMA][SMOOTH]['false'] = list(false_inter)\n",
    "        metrics[SIGMA][SMOOTH]['diff'] = list(diff)\n",
    "        metrics[SIGMA][SMOOTH]['fils_num'] = len(DPS.fils)\n",
    "        metrics[SIGMA][SMOOTH]['true_fils_inter'] = list(true_fils_inter)\n",
    "        metrics[SIGMA][SMOOTH]['false_fils_inter'] = list(false_fils_inter)\n",
    "        metrics[SIGMA][SMOOTH]['fils_diff'] = list(fils_diff)"
   ]
  },
  {
   "cell_type": "code",
   "execution_count": null,
   "id": "a39be976",
   "metadata": {},
   "outputs": [],
   "source": [
    "metrics"
   ]
  },
  {
   "cell_type": "code",
   "execution_count": null,
   "id": "c0697d51",
   "metadata": {},
   "outputs": [],
   "source": [
    "with open(\"metrics_temp.json\", \"w\") as f:\n",
    "    json.dump(metrics, f)"
   ]
  },
  {
   "cell_type": "code",
   "execution_count": null,
   "id": "b83705b8",
   "metadata": {},
   "outputs": [],
   "source": []
  }
 ],
 "metadata": {
  "kernelspec": {
   "display_name": "Python 3",
   "language": "python",
   "name": "python3"
  },
  "language_info": {
   "codemirror_mode": {
    "name": "ipython",
    "version": 3
   },
   "file_extension": ".py",
   "mimetype": "text/x-python",
   "name": "python",
   "nbconvert_exporter": "python",
   "pygments_lexer": "ipython3",
   "version": "3.8.8"
  }
 },
 "nbformat": 4,
 "nbformat_minor": 5
}
