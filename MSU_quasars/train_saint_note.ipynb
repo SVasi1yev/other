{
 "cells": [
  {
   "cell_type": "code",
   "execution_count": 1,
   "id": "1a2209fb",
   "metadata": {},
   "outputs": [],
   "source": [
    "import pickle\n",
    "import time\n",
    "from IPython.display import clear_output\n",
    "import sys\n",
    "import os\n",
    "import copy\n",
    "\n",
    "import pandas as pd\n",
    "import numpy as np\n",
    "# %matplotlib inline\n",
    "import matplotlib.pyplot as plt\n",
    "from tqdm import tqdm\n",
    "from astropy.table import Table\n",
    "from sklearn.preprocessing import StandardScaler\n",
    "import torch\n",
    "from torch import nn\n",
    "from torch.utils.data import Dataset, DataLoader\n",
    "\n",
    "import DeepEnsemble\n",
    "import metrics\n",
    "\n",
    "from models.SAINT import SAINT\n",
    "from models.augmentations import embed_data_mask"
   ]
  },
  {
   "cell_type": "code",
   "execution_count": 2,
   "id": "3b381d29",
   "metadata": {},
   "outputs": [],
   "source": [
    "data_dir = 'data/q_photo_z_train'\n",
    "with open(f'{data_dir}/feature_lists/features_sdssdr16+all_deacls8tr_QSO+GALAXY_20201212143658.pkl', 'rb') as f:\n",
    "    features_20 = pickle.load(f)\n",
    "with open(f'{data_dir}/feature_lists/features_sdssdr16+psdr2+all_deacls8tr_QSO+GALAXY_20201212133711.pkl', 'rb') as f:\n",
    "    features_35 = pickle.load(f)\n",
    "with open(f'{data_dir}/feature_lists/features_deacls8tr_QSO+GALAXY_20201212135641.pkl', 'rb') as f:\n",
    "    features_21 = pickle.load(f)\n",
    "with open(f'{data_dir}/feature_lists/features_psdr2+all_deacls8tr_QSO+GALAXY_20201212142333.pkl', 'rb') as f:\n",
    "    features_22 = pickle.load(f)\n",
    "np.random.seed(2)\n",
    "torch.manual_seed(2)\n",
    "device = torch.device('cuda') if torch.cuda.is_available() else torch.device('cpu')"
   ]
  },
  {
   "cell_type": "code",
   "execution_count": 3,
   "id": "132c5290",
   "metadata": {},
   "outputs": [],
   "source": [
    "train_01 = pd.read_csv(f'{data_dir}/train_01.csv').iloc[:1000]\n",
    "train_02 = pd.read_csv(f'{data_dir}/train_02.csv').iloc[:1000]"
   ]
  },
  {
   "cell_type": "code",
   "execution_count": 4,
   "id": "df3dcb81",
   "metadata": {},
   "outputs": [
    {
     "data": {
      "text/plain": [
       "((1000, 68), (1000, 68))"
      ]
     },
     "execution_count": 4,
     "metadata": {},
     "output_type": "execute_result"
    }
   ],
   "source": [
    "train_01.shape, train_02.shape"
   ]
  },
  {
   "cell_type": "code",
   "execution_count": 5,
   "id": "c30f729c",
   "metadata": {},
   "outputs": [],
   "source": [
    "t_01 = train_01[['RA', 'DEC', 'Z'] + features_35].dropna().reset_index()\n",
    "X_01 = t_01[features_35].values.astype(float)\n",
    "y_01 = t_01['Z'].values.astype(float)\n",
    "\n",
    "t_02 = train_02[['RA', 'DEC', 'Z'] + features_35].dropna().reset_index()\n",
    "X_02 = t_02[features_35].values.astype(float)\n",
    "y_02 = t_02['Z'].values.astype(float)"
   ]
  },
  {
   "cell_type": "code",
   "execution_count": 6,
   "id": "391485af",
   "metadata": {},
   "outputs": [
    {
     "data": {
      "text/plain": [
       "((962, 69), (952, 69))"
      ]
     },
     "execution_count": 6,
     "metadata": {},
     "output_type": "execute_result"
    }
   ],
   "source": [
    "t_01.shape, t_02.shape"
   ]
  },
  {
   "cell_type": "code",
   "execution_count": 7,
   "id": "5bad9c31",
   "metadata": {},
   "outputs": [
    {
     "data": {
      "image/png": "[encoded data removed]",
      "text/plain": [
       "<Figure size 432x288 with 1 Axes>"
      ]
     },
     "metadata": {
      "needs_background": "light"
     },
     "output_type": "display_data"
    }
   ],
   "source": [
    "def p_func(z):\n",
    "    return 1 / (1 + np.exp(-4*(z-5)))\n",
    "n_dup = 100\n",
    "z_thr = 0.0015 #4.5\n",
    "\n",
    "dataloader = DeepEnsemble.HZ_dataloader_new(\n",
    "    torch.tensor(X_01, device=torch.device(device), dtype=torch.float),\n",
    "    torch.tensor(y_01, device=torch.device(device), dtype=torch.float), \n",
    "    p_func, n_dup, z_thr=5, batch_size=2**13, shuffle=False, device=device\n",
    ")\n",
    "plt.hist(y_01[dataloader.all_idx.cpu().numpy()], bins=100);"
   ]
  },
  {
   "cell_type": "code",
   "execution_count": 8,
   "id": "848fcb33",
   "metadata": {},
   "outputs": [
    {
     "ename": "NameError",
     "evalue": "name 'DeepEnsemble' is not defined",
     "output_type": "error",
     "traceback": [
      "\u001b[0;31m---------------------------------------------------------------------------\u001b[0m",
      "\u001b[0;31mNameError\u001b[0m                                 Traceback (most recent call last)",
      "\u001b[1;32m/home/svasilyev/projects/MSU_quasars/train_saint_note.ipynb Ячейка 8\u001b[0m in \u001b[0;36m<cell line: 6>\u001b[0;34m()\u001b[0m\n\u001b[1;32m      <a href='vscode-notebook-cell:/home/svasilyev/projects/MSU_quasars/train_saint_note.ipynb#W6sZmlsZQ%3D%3D?line=1'>2</a>\u001b[0m torch\u001b[39m.\u001b[39mmanual_seed(\u001b[39m1\u001b[39m)\n\u001b[1;32m      <a href='vscode-notebook-cell:/home/svasilyev/projects/MSU_quasars/train_saint_note.ipynb#W6sZmlsZQ%3D%3D?line=3'>4</a>\u001b[0m cat_dims \u001b[39m=\u001b[39m np\u001b[39m.\u001b[39marray([\u001b[39m1\u001b[39m])\n\u001b[0;32m----> <a href='vscode-notebook-cell:/home/svasilyev/projects/MSU_quasars/train_saint_note.ipynb#W6sZmlsZQ%3D%3D?line=5'>6</a>\u001b[0m ens \u001b[39m=\u001b[39m DeepEnsemble\u001b[39m.\u001b[39;49mDeepEnsemble_GMM(\n\u001b[1;32m      <a href='vscode-notebook-cell:/home/svasilyev/projects/MSU_quasars/train_saint_note.ipynb#W6sZmlsZQ%3D%3D?line=6'>7</a>\u001b[0m     DeepEnsemble\u001b[39m.\u001b[39;49mMySAINT,\n\u001b[1;32m      <a href='vscode-notebook-cell:/home/svasilyev/projects/MSU_quasars/train_saint_note.ipynb#W6sZmlsZQ%3D%3D?line=7'>8</a>\u001b[0m     {\n\u001b[1;32m      <a href='vscode-notebook-cell:/home/svasilyev/projects/MSU_quasars/train_saint_note.ipynb#W6sZmlsZQ%3D%3D?line=8'>9</a>\u001b[0m         \u001b[39m'\u001b[39;49m\u001b[39mcat_dims\u001b[39;49m\u001b[39m'\u001b[39;49m: cat_dims,\n\u001b[1;32m     <a href='vscode-notebook-cell:/home/svasilyev/projects/MSU_quasars/train_saint_note.ipynb#W6sZmlsZQ%3D%3D?line=9'>10</a>\u001b[0m         \u001b[39m'\u001b[39;49m\u001b[39mnum_continuous\u001b[39;49m\u001b[39m'\u001b[39;49m: X_01\u001b[39m.\u001b[39;49mshape[\u001b[39m1\u001b[39;49m],\n\u001b[1;32m     <a href='vscode-notebook-cell:/home/svasilyev/projects/MSU_quasars/train_saint_note.ipynb#W6sZmlsZQ%3D%3D?line=10'>11</a>\u001b[0m         \u001b[39m'\u001b[39;49m\u001b[39membedding_size\u001b[39;49m\u001b[39m'\u001b[39;49m: \u001b[39m16\u001b[39;49m, \n\u001b[1;32m     <a href='vscode-notebook-cell:/home/svasilyev/projects/MSU_quasars/train_saint_note.ipynb#W6sZmlsZQ%3D%3D?line=11'>12</a>\u001b[0m         \u001b[39m'\u001b[39;49m\u001b[39mtransformer_depth\u001b[39;49m\u001b[39m'\u001b[39;49m: \u001b[39m3\u001b[39;49m, \n\u001b[1;32m     <a href='vscode-notebook-cell:/home/svasilyev/projects/MSU_quasars/train_saint_note.ipynb#W6sZmlsZQ%3D%3D?line=12'>13</a>\u001b[0m         \u001b[39m'\u001b[39;49m\u001b[39mattention_heads\u001b[39;49m\u001b[39m'\u001b[39;49m: \u001b[39m3\u001b[39;49m,\n\u001b[1;32m     <a href='vscode-notebook-cell:/home/svasilyev/projects/MSU_quasars/train_saint_note.ipynb#W6sZmlsZQ%3D%3D?line=13'>14</a>\u001b[0m         \u001b[39m'\u001b[39;49m\u001b[39mattention_dropout\u001b[39;49m\u001b[39m'\u001b[39;49m: \u001b[39m0.0\u001b[39;49m, \n\u001b[1;32m     <a href='vscode-notebook-cell:/home/svasilyev/projects/MSU_quasars/train_saint_note.ipynb#W6sZmlsZQ%3D%3D?line=14'>15</a>\u001b[0m         \u001b[39m'\u001b[39;49m\u001b[39mff_dropout\u001b[39;49m\u001b[39m'\u001b[39;49m: \u001b[39m-\u001b[39;49m\u001b[39m.0\u001b[39;49m, \n\u001b[1;32m     <a href='vscode-notebook-cell:/home/svasilyev/projects/MSU_quasars/train_saint_note.ipynb#W6sZmlsZQ%3D%3D?line=15'>16</a>\u001b[0m         \u001b[39m'\u001b[39;49m\u001b[39mattentiontype\u001b[39;49m\u001b[39m'\u001b[39;49m: \u001b[39m'\u001b[39;49m\u001b[39mcol\u001b[39;49m\u001b[39m'\u001b[39;49m,\n\u001b[1;32m     <a href='vscode-notebook-cell:/home/svasilyev/projects/MSU_quasars/train_saint_note.ipynb#W6sZmlsZQ%3D%3D?line=16'>17</a>\u001b[0m         \u001b[39m'\u001b[39;49m\u001b[39menc_sizes\u001b[39;49m\u001b[39m'\u001b[39;49m: [\u001b[39m16\u001b[39;49m, \u001b[39m16\u001b[39;49m, \u001b[39m1\u001b[39;49m],\n\u001b[1;32m     <a href='vscode-notebook-cell:/home/svasilyev/projects/MSU_quasars/train_saint_note.ipynb#W6sZmlsZQ%3D%3D?line=17'>18</a>\u001b[0m         \u001b[39m'\u001b[39;49m\u001b[39menc_dropout\u001b[39;49m\u001b[39m'\u001b[39;49m: \u001b[39m0.0\u001b[39;49m,\n\u001b[1;32m     <a href='vscode-notebook-cell:/home/svasilyev/projects/MSU_quasars/train_saint_note.ipynb#W6sZmlsZQ%3D%3D?line=18'>19</a>\u001b[0m     },\n\u001b[1;32m     <a href='vscode-notebook-cell:/home/svasilyev/projects/MSU_quasars/train_saint_note.ipynb#W6sZmlsZQ%3D%3D?line=19'>20</a>\u001b[0m     \u001b[39m5\u001b[39;49m, device\n\u001b[1;32m     <a href='vscode-notebook-cell:/home/svasilyev/projects/MSU_quasars/train_saint_note.ipynb#W6sZmlsZQ%3D%3D?line=20'>21</a>\u001b[0m )\n\u001b[1;32m     <a href='vscode-notebook-cell:/home/svasilyev/projects/MSU_quasars/train_saint_note.ipynb#W6sZmlsZQ%3D%3D?line=22'>23</a>\u001b[0m X_cat_train_tensor \u001b[39m=\u001b[39m torch\u001b[39m.\u001b[39mtensor(np\u001b[39m.\u001b[39mzeros((X_01\u001b[39m.\u001b[39mshape[\u001b[39m0\u001b[39m], \u001b[39m1\u001b[39m)), device\u001b[39m=\u001b[39mtorch\u001b[39m.\u001b[39mdevice(device), dtype\u001b[39m=\u001b[39mtorch\u001b[39m.\u001b[39mint)\n\u001b[1;32m     <a href='vscode-notebook-cell:/home/svasilyev/projects/MSU_quasars/train_saint_note.ipynb#W6sZmlsZQ%3D%3D?line=23'>24</a>\u001b[0m X_con_train_tensor \u001b[39m=\u001b[39m torch\u001b[39m.\u001b[39mtensor(X_01, device\u001b[39m=\u001b[39mtorch\u001b[39m.\u001b[39mdevice(device), dtype\u001b[39m=\u001b[39mtorch\u001b[39m.\u001b[39mfloat)\n",
      "File \u001b[0;32m~/projects/MSU_quasars/DeepEnsemble.py:352\u001b[0m, in \u001b[0;36mDeepEnsemble_GMM.__init__\u001b[0;34m(self, BaseModel, base_model_args, M, device)\u001b[0m\n\u001b[1;32m    350\u001b[0m \u001b[39mself\u001b[39m\u001b[39m.\u001b[39mmodels \u001b[39m=\u001b[39m []\n\u001b[1;32m    351\u001b[0m \u001b[39mfor\u001b[39;00m i \u001b[39min\u001b[39;00m \u001b[39mrange\u001b[39m(M):\n\u001b[0;32m--> 352\u001b[0m     \u001b[39mself\u001b[39m\u001b[39m.\u001b[39mmodels\u001b[39m.\u001b[39mappend(BaseModel(\u001b[39m*\u001b[39;49m\u001b[39m*\u001b[39;49mbase_model_args)\u001b[39m.\u001b[39mto(\u001b[39mself\u001b[39m\u001b[39m.\u001b[39mdevice))\n",
      "File \u001b[0;32m~/projects/MSU_quasars/DeepEnsemble.py:297\u001b[0m, in \u001b[0;36mMySAINT.__init__\u001b[0;34m(self, cat_dims, num_continuous, embedding_size, transformer_depth, attention_heads, attention_dropout, ff_dropout, attentiontype, cont_embeddings, enc_sizes, enc_dropout, final_mlp_style, y_dim)\u001b[0m\n\u001b[1;32m    283\u001b[0m cat_dims \u001b[39m=\u001b[39m cat_dims\u001b[39m.\u001b[39mastype(\u001b[39mint\u001b[39m)\n\u001b[1;32m    284\u001b[0m \u001b[39mself\u001b[39m\u001b[39m.\u001b[39mencoder \u001b[39m=\u001b[39m SAINT(\n\u001b[1;32m    285\u001b[0m     categories\u001b[39m=\u001b[39m\u001b[39mtuple\u001b[39m(cat_dims),\n\u001b[1;32m    286\u001b[0m     num_continuous\u001b[39m=\u001b[39mnum_continuous,\n\u001b[0;32m   (...)\u001b[0m\n\u001b[1;32m    295\u001b[0m     y_dim\u001b[39m=\u001b[39my_dim\n\u001b[1;32m    296\u001b[0m )\n\u001b[0;32m--> 297\u001b[0m \u001b[39mself\u001b[39m\u001b[39m.\u001b[39mdecoder \u001b[39m=\u001b[39m DeepEnsemble\u001b[39m.\u001b[39mMLP_GMM(\n\u001b[1;32m    298\u001b[0m     sizes\u001b[39m=\u001b[39menc_sizes,\n\u001b[1;32m    299\u001b[0m     p\u001b[39m=\u001b[39menc_dropout\n\u001b[1;32m    300\u001b[0m )\n",
      "\u001b[0;31mNameError\u001b[0m: name 'DeepEnsemble' is not defined"
     ]
    }
   ],
   "source": [
    "np.random.seed(1)\n",
    "torch.manual_seed(1)\n",
    "\n",
    "cat_dims = np.array([1])\n",
    "\n",
    "ens = DeepEnsemble.DeepEnsemble_GMM(\n",
    "    DeepEnsemble.MySAINT,\n",
    "    {\n",
    "        'cat_dims': cat_dims,\n",
    "        'num_continuous': X_01.shape[1],\n",
    "        'embedding_size': 16, \n",
    "        'transformer_depth': 3, \n",
    "        'attention_heads': 3,\n",
    "        'attention_dropout': 0.0, \n",
    "        'ff_dropout': -.0, \n",
    "        'attentiontype': 'col',\n",
    "        'enc_sizes': [16, 16, 1],\n",
    "        'enc_dropout': 0.0,\n",
    "    },\n",
    "    5, device\n",
    ")\n",
    "\n",
    "X_cat_train_tensor = torch.tensor(np.zeros((X_01.shape[0], 1)), device=torch.device(device), dtype=torch.int)\n",
    "X_con_train_tensor = torch.tensor(X_01, device=torch.device(device), dtype=torch.float)\n",
    "y_train_tensor = torch.tensor(y_01, device=torch.device(device), dtype=torch.float)\n",
    "X_cat_test_tensor = torch.tensor(np.zeros((X_02.shape[0], 1)), device=torch.device(device), dtype=torch.int)\n",
    "X_con_test_tensor = torch.tensor(X_02, device=torch.device(device), dtype=torch.float)\n",
    "y_test_tensor = torch.tensor(y_02, device=torch.device(device), dtype=torch.float)\n",
    "\n",
    "optimizer = torch.optim.Adam\n",
    "scheduler = torch.optim.lr_scheduler.ExponentialLR\n",
    "\n",
    "ens.fit(\n",
    "    TrainDataloader=DeepEnsemble.HZ_dataloader_newCatCon,\n",
    "    train_dataloader_params={\n",
    "        'X_cat': X_cat_train_tensor, 'X_con': X_con_train_tensor, 'y': y_train_tensor,\n",
    "        'p_func': p_func, 'n_dup': n_dup, 'z_thr': z_thr,\n",
    "        'batch_size': 2**13, 'shuffle': True, 'device': device\n",
    "    },\n",
    "    TestDataloader=DeepEnsemble.SimpleDataloaderCatCon,\n",
    "    test_dataloader_params={\n",
    "        'X_cat': X_cat_test_tensor, 'X_con': X_con_test_tensor, 'y': y_test_tensor,\n",
    "        'batch_size': 2**13, 'shuffle': True\n",
    "    },\n",
    "    epochs=3,#70, \n",
    "    optimizer=optimizer, \n",
    "    optimizer_args={'lr': 0.001, 'weight_decay': 0.001},\n",
    "    scheduler=scheduler,\n",
    "    scheduler_args={'gamma': 0.96},\n",
    "    verbose=True,\n",
    "    metrics={\n",
    "        'S_nmad': metrics.sigma_nmad, 'out_rate': metrics.out_rate,\n",
    "        # 'S_nmad_z4': metrics.sigma_nmad_z4, 'out_rate_z4': metrics.out_rate_z4,\n",
    "        # 'S_nmad_z5': metrics.sigma_nmad_z5, 'out_rate_z5': metrics.out_rate_z5,\n",
    "        # 'S_nmad_z6': sigma_nmad_z6, 'out_rate_z6': out_rate_z6,\n",
    "    }\n",
    ");"
   ]
  }
 ],
 "metadata": {
  "kernelspec": {
   "display_name": "base",
   "language": "python",
   "name": "python3"
  },
  "language_info": {
   "codemirror_mode": {
    "name": "ipython",
    "version": 3
   },
   "file_extension": ".py",
   "mimetype": "text/x-python",
   "name": "python",
   "nbconvert_exporter": "python",
   "pygments_lexer": "ipython3",
   "version": "3.9.12"
  },
  "vscode": {
   "interpreter": {
    "hash": "b210ac21eb63079a8493f0e0c56ef176b7bcba6a4a468d1cebf21ec2ac93b0b4"
   }
  }
 },
 "nbformat": 4,
 "nbformat_minor": 5
}
