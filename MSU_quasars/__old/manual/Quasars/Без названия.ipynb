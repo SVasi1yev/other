{
 "cells": [
  {
   "cell_type": "code",
   "execution_count": 3,
   "id": "a0275129",
   "metadata": {},
   "outputs": [],
   "source": [
    "import numpy as np\n",
    "import pandas as pd\n",
    "from tqdm import tqdm\n",
    "from astropy.table import Table\n",
    "\n",
    "import shutil\n",
    "\n",
    "import requests"
   ]
  },
  {
   "cell_type": "code",
   "execution_count": 4,
   "id": "bb771587",
   "metadata": {},
   "outputs": [],
   "source": [
    "manual_data = pd.read_csv('dr16q_outliers_02.csv')\n",
    "manual_data_01 = manual_data[manual_data['gclass_zsys'].isna()]"
   ]
  },
  {
   "cell_type": "code",
   "execution_count": 8,
   "id": "9ea2bdf6",
   "metadata": {},
   "outputs": [
    {
     "data": {
      "text/plain": [
       "20"
      ]
     },
     "execution_count": 8,
     "metadata": {},
     "output_type": "execute_result"
    }
   ],
   "source": [
    "manual_data_01.shape[0]"
   ]
  },
  {
   "cell_type": "code",
   "execution_count": 7,
   "id": "f24d2c78",
   "metadata": {},
   "outputs": [
    {
     "name": "stdout",
     "output_type": "stream",
     "text": [
      "8793 57391 0587\n",
      "11 http://skyserver.sdss.org/dr17/VisualTools/quickobj?plate=8793&mjd=57391&fiber=0587\n",
      "10232 58223 0808\n",
      "12 http://skyserver.sdss.org/dr17/VisualTools/quickobj?plate=10232&mjd=58223&fiber=0808\n",
      "4722 55735 0730\n",
      "18 http://skyserver.sdss.org/dr17/VisualTools/quickobj?plate=4722&mjd=55735&fiber=0730\n",
      "8792 57364 0026\n",
      "19 http://skyserver.sdss.org/dr17/VisualTools/quickobj?plate=8792&mjd=57364&fiber=0026\n",
      "7378 56715 0527\n",
      "20 http://skyserver.sdss.org/dr17/VisualTools/quickobj?plate=7378&mjd=56715&fiber=0527\n",
      "4710 55707 0828\n",
      "21 http://skyserver.sdss.org/dr17/VisualTools/quickobj?plate=4710&mjd=55707&fiber=0828\n",
      "10757 58223 0254\n",
      "23 http://skyserver.sdss.org/dr17/VisualTools/quickobj?plate=10757&mjd=58223&fiber=0254\n",
      "8168 56992 0460\n",
      "24 http://skyserver.sdss.org/dr17/VisualTools/quickobj?plate=8168&mjd=56992&fiber=0460\n",
      "7397 57129 0113\n",
      "25 http://skyserver.sdss.org/dr17/VisualTools/quickobj?plate=7397&mjd=57129&fiber=0113\n",
      "7275 57093 0263\n",
      "26 http://skyserver.sdss.org/dr17/VisualTools/quickobj?plate=7275&mjd=57093&fiber=0263\n",
      "11309 58428 0769\n",
      "27 http://skyserver.sdss.org/dr17/VisualTools/quickobj?plate=11309&mjd=58428&fiber=0769\n",
      "11388 58487 0928\n",
      "28 http://skyserver.sdss.org/dr17/VisualTools/quickobj?plate=11388&mjd=58487&fiber=0928\n",
      "10274 58170 0820\n",
      "33 http://skyserver.sdss.org/dr17/VisualTools/quickobj?plate=10274&mjd=58170&fiber=0820\n",
      "8536 58015 0669\n",
      "35 http://skyserver.sdss.org/dr17/VisualTools/quickobj?plate=8536&mjd=58015&fiber=0669\n",
      "11285 58402 0484\n",
      "37 http://skyserver.sdss.org/dr17/VisualTools/quickobj?plate=11285&mjd=58402&fiber=0484\n",
      "8746 58396 0088\n",
      "39 http://skyserver.sdss.org/dr17/VisualTools/quickobj?plate=8746&mjd=58396&fiber=0088\n",
      "10250 58472 0801\n",
      "41 http://skyserver.sdss.org/dr17/VisualTools/quickobj?plate=10250&mjd=58472&fiber=0801\n",
      "8793 57391 0587\n",
      "42 http://skyserver.sdss.org/dr17/VisualTools/quickobj?plate=8793&mjd=57391&fiber=0587\n",
      "7397 57129 0113\n",
      "51 http://skyserver.sdss.org/dr17/VisualTools/quickobj?plate=7397&mjd=57129&fiber=0113\n",
      "7275 57093 0263\n",
      "56 http://skyserver.sdss.org/dr17/VisualTools/quickobj?plate=7275&mjd=57093&fiber=0263\n"
     ]
    }
   ],
   "source": [
    "for i in range(manual_data_01.shape[0]):\n",
    "    row = manual_data_01.iloc[i]\n",
    "    plate, mjd, fiber = row['OBJID'][:-1].split('-')\n",
    "    print(plate, mjd, fiber)\n",
    "    url = f'http://skyserver.sdss.org/dr17/VisualTools/quickobj?plate={plate}&mjd={mjd}&fiber={fiber}'\n",
    "    print(row['index'], url)"
   ]
  },
  {
   "cell_type": "code",
   "execution_count": null,
   "id": "246e709e",
   "metadata": {},
   "outputs": [],
   "source": []
  }
 ],
 "metadata": {
  "kernelspec": {
   "display_name": "Python 3 (ipykernel)",
   "language": "python",
   "name": "python3"
  },
  "language_info": {
   "codemirror_mode": {
    "name": "ipython",
    "version": 3
   },
   "file_extension": ".py",
   "mimetype": "text/x-python",
   "name": "python",
   "nbconvert_exporter": "python",
   "pygments_lexer": "ipython3",
   "version": "3.9.12"
  }
 },
 "nbformat": 4,
 "nbformat_minor": 5
}
