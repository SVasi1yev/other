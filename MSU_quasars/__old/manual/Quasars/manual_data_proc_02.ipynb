{
 "cells": [
  {
   "cell_type": "code",
   "execution_count": 1,
   "id": "38d579bf",
   "metadata": {},
   "outputs": [],
   "source": [
    "import numpy as np\n",
    "import pandas as pd\n",
    "from tqdm import tqdm\n",
    "from astropy.table import Table"
   ]
  },
  {
   "cell_type": "code",
   "execution_count": 2,
   "id": "0eb3b9f0",
   "metadata": {},
   "outputs": [],
   "source": [
    "manual_data = pd.read_csv('manual_data.csv')"
   ]
  },
  {
   "cell_type": "code",
   "execution_count": 3,
   "id": "ba1d6b2b",
   "metadata": {},
   "outputs": [
    {
     "data": {
      "text/html": [
       "<div>\n",
       "<style scoped>\n",
       "    .dataframe tbody tr th:only-of-type {\n",
       "        vertical-align: middle;\n",
       "    }\n",
       "\n",
       "    .dataframe tbody tr th {\n",
       "        vertical-align: top;\n",
       "    }\n",
       "\n",
       "    .dataframe thead th {\n",
       "        text-align: right;\n",
       "    }\n",
       "</style>\n",
       "<table border=\"1\" class=\"dataframe\">\n",
       "  <thead>\n",
       "    <tr style=\"text-align: right;\">\n",
       "      <th></th>\n",
       "      <th>OBJID</th>\n",
       "      <th>RA</th>\n",
       "      <th>DEC</th>\n",
       "      <th>Z</th>\n",
       "      <th>Z_SYS</th>\n",
       "      <th>max35_z</th>\n",
       "      <th>preds</th>\n",
       "    </tr>\n",
       "  </thead>\n",
       "  <tbody>\n",
       "    <tr>\n",
       "      <th>0</th>\n",
       "      <td>b'4217-55478-0338'</td>\n",
       "      <td>1.658320</td>\n",
       "      <td>-0.615639</td>\n",
       "      <td>4.435000</td>\n",
       "      <td>4.442282</td>\n",
       "      <td>4.395265</td>\n",
       "      <td>0.010881</td>\n",
       "    </tr>\n",
       "    <tr>\n",
       "      <th>1</th>\n",
       "      <td>b'4205-55454-0456'</td>\n",
       "      <td>340.528727</td>\n",
       "      <td>-0.864402</td>\n",
       "      <td>4.009000</td>\n",
       "      <td>4.014079</td>\n",
       "      <td>3.878712</td>\n",
       "      <td>0.055041</td>\n",
       "    </tr>\n",
       "    <tr>\n",
       "      <th>2</th>\n",
       "      <td>b'0983-52443-0301'</td>\n",
       "      <td>312.423281</td>\n",
       "      <td>-0.680922</td>\n",
       "      <td>4.187227</td>\n",
       "      <td>4.182726</td>\n",
       "      <td>4.154698</td>\n",
       "      <td>0.011180</td>\n",
       "    </tr>\n",
       "    <tr>\n",
       "      <th>3</th>\n",
       "      <td>b'0411-51817-0399'</td>\n",
       "      <td>45.105127</td>\n",
       "      <td>0.540065</td>\n",
       "      <td>4.199800</td>\n",
       "      <td>4.207335</td>\n",
       "      <td>4.152000</td>\n",
       "      <td>0.011280</td>\n",
       "    </tr>\n",
       "    <tr>\n",
       "      <th>4</th>\n",
       "      <td>b'7719-58082-0109'</td>\n",
       "      <td>13.558970</td>\n",
       "      <td>31.766886</td>\n",
       "      <td>4.227000</td>\n",
       "      <td>4.310052</td>\n",
       "      <td>4.240692</td>\n",
       "      <td>0.108101</td>\n",
       "    </tr>\n",
       "    <tr>\n",
       "      <th>5</th>\n",
       "      <td>b'7862-56984-0682'</td>\n",
       "      <td>1.475132</td>\n",
       "      <td>0.511677</td>\n",
       "      <td>4.137000</td>\n",
       "      <td>4.122035</td>\n",
       "      <td>4.052000</td>\n",
       "      <td>0.172301</td>\n",
       "    </tr>\n",
       "    <tr>\n",
       "      <th>6</th>\n",
       "      <td>b'3590-55201-0338'</td>\n",
       "      <td>11.818089</td>\n",
       "      <td>-0.597285</td>\n",
       "      <td>4.185000</td>\n",
       "      <td>4.162348</td>\n",
       "      <td>3.897789</td>\n",
       "      <td>0.245229</td>\n",
       "    </tr>\n",
       "    <tr>\n",
       "      <th>7</th>\n",
       "      <td>b'4202-55445-0226'</td>\n",
       "      <td>336.554134</td>\n",
       "      <td>-0.516342</td>\n",
       "      <td>4.009000</td>\n",
       "      <td>4.006672</td>\n",
       "      <td>3.762000</td>\n",
       "      <td>0.289440</td>\n",
       "    </tr>\n",
       "    <tr>\n",
       "      <th>8</th>\n",
       "      <td>b'4217-55478-0580'</td>\n",
       "      <td>1.019638</td>\n",
       "      <td>0.010856</td>\n",
       "      <td>4.310000</td>\n",
       "      <td>4.303564</td>\n",
       "      <td>4.316827</td>\n",
       "      <td>0.321278</td>\n",
       "    </tr>\n",
       "    <tr>\n",
       "      <th>9</th>\n",
       "      <td>b'4232-55447-0852'</td>\n",
       "      <td>27.550942</td>\n",
       "      <td>0.272996</td>\n",
       "      <td>4.456000</td>\n",
       "      <td>4.469812</td>\n",
       "      <td>4.368428</td>\n",
       "      <td>0.363159</td>\n",
       "    </tr>\n",
       "    <tr>\n",
       "      <th>10</th>\n",
       "      <td>b'8398-57870-0306'</td>\n",
       "      <td>216.803788</td>\n",
       "      <td>56.318975</td>\n",
       "      <td>4.247000</td>\n",
       "      <td>4.266328</td>\n",
       "      <td>4.200158</td>\n",
       "      <td>0.582151</td>\n",
       "    </tr>\n",
       "    <tr>\n",
       "      <th>11</th>\n",
       "      <td>b'8793-57391-0587'</td>\n",
       "      <td>25.840592</td>\n",
       "      <td>1.183334</td>\n",
       "      <td>4.211000</td>\n",
       "      <td>4.217786</td>\n",
       "      <td>4.384295</td>\n",
       "      <td>0.686491</td>\n",
       "    </tr>\n",
       "    <tr>\n",
       "      <th>12</th>\n",
       "      <td>b'10232-58223-0808'</td>\n",
       "      <td>151.147820</td>\n",
       "      <td>34.441202</td>\n",
       "      <td>4.065919</td>\n",
       "      <td>4.072194</td>\n",
       "      <td>0.716400</td>\n",
       "      <td>0.753310</td>\n",
       "    </tr>\n",
       "    <tr>\n",
       "      <th>13</th>\n",
       "      <td>b'10925-58271-0642'</td>\n",
       "      <td>231.751537</td>\n",
       "      <td>35.019757</td>\n",
       "      <td>4.079770</td>\n",
       "      <td>4.095711</td>\n",
       "      <td>0.827348</td>\n",
       "      <td>0.455474</td>\n",
       "    </tr>\n",
       "    <tr>\n",
       "      <th>14</th>\n",
       "      <td>b'4257-55480-0124'</td>\n",
       "      <td>44.475522</td>\n",
       "      <td>1.335277</td>\n",
       "      <td>4.240000</td>\n",
       "      <td>4.239346</td>\n",
       "      <td>4.222870</td>\n",
       "      <td>0.445497</td>\n",
       "    </tr>\n",
       "    <tr>\n",
       "      <th>15</th>\n",
       "      <td>b'11055-58429-0965'</td>\n",
       "      <td>15.081000</td>\n",
       "      <td>9.836346</td>\n",
       "      <td>7.011245</td>\n",
       "      <td>7.011245</td>\n",
       "      <td>3.837936</td>\n",
       "      <td>0.892857</td>\n",
       "    </tr>\n",
       "    <tr>\n",
       "      <th>16</th>\n",
       "      <td>b'7819-57280-0132'</td>\n",
       "      <td>43.543217</td>\n",
       "      <td>0.896061</td>\n",
       "      <td>4.005332</td>\n",
       "      <td>4.034125</td>\n",
       "      <td>1.189000</td>\n",
       "      <td>0.828911</td>\n",
       "    </tr>\n",
       "    <tr>\n",
       "      <th>17</th>\n",
       "      <td>b'11277-58450-0826'</td>\n",
       "      <td>0.525885</td>\n",
       "      <td>9.105913</td>\n",
       "      <td>4.741986</td>\n",
       "      <td>4.769994</td>\n",
       "      <td>1.794426</td>\n",
       "      <td>0.840668</td>\n",
       "    </tr>\n",
       "    <tr>\n",
       "      <th>18</th>\n",
       "      <td>b'4722-55735-0730'</td>\n",
       "      <td>234.615402</td>\n",
       "      <td>30.429379</td>\n",
       "      <td>6.514745</td>\n",
       "      <td>6.514745</td>\n",
       "      <td>0.780292</td>\n",
       "      <td>0.997292</td>\n",
       "    </tr>\n",
       "    <tr>\n",
       "      <th>19</th>\n",
       "      <td>b'8792-57364-0026'</td>\n",
       "      <td>25.652342</td>\n",
       "      <td>-0.336764</td>\n",
       "      <td>4.299917</td>\n",
       "      <td>4.299917</td>\n",
       "      <td>1.145000</td>\n",
       "      <td>0.998130</td>\n",
       "    </tr>\n",
       "    <tr>\n",
       "      <th>20</th>\n",
       "      <td>b'7378-56715-0527'</td>\n",
       "      <td>122.198621</td>\n",
       "      <td>48.584590</td>\n",
       "      <td>6.267025</td>\n",
       "      <td>6.267025</td>\n",
       "      <td>0.806387</td>\n",
       "      <td>0.982489</td>\n",
       "    </tr>\n",
       "    <tr>\n",
       "      <th>21</th>\n",
       "      <td>b'4710-55707-0828'</td>\n",
       "      <td>208.509154</td>\n",
       "      <td>40.238886</td>\n",
       "      <td>4.760000</td>\n",
       "      <td>4.760000</td>\n",
       "      <td>0.948216</td>\n",
       "      <td>0.997551</td>\n",
       "    </tr>\n",
       "    <tr>\n",
       "      <th>22</th>\n",
       "      <td>b'10902-58396-0856'</td>\n",
       "      <td>256.824101</td>\n",
       "      <td>34.786986</td>\n",
       "      <td>6.478034</td>\n",
       "      <td>6.478034</td>\n",
       "      <td>1.192318</td>\n",
       "      <td>0.989710</td>\n",
       "    </tr>\n",
       "    <tr>\n",
       "      <th>23</th>\n",
       "      <td>b'10757-58223-0254'</td>\n",
       "      <td>217.288546</td>\n",
       "      <td>34.431755</td>\n",
       "      <td>4.059155</td>\n",
       "      <td>4.059155</td>\n",
       "      <td>1.370019</td>\n",
       "      <td>0.992607</td>\n",
       "    </tr>\n",
       "    <tr>\n",
       "      <th>24</th>\n",
       "      <td>b'8168-56992-0460'</td>\n",
       "      <td>154.284797</td>\n",
       "      <td>50.331908</td>\n",
       "      <td>4.344030</td>\n",
       "      <td>4.432530</td>\n",
       "      <td>1.337000</td>\n",
       "      <td>0.983229</td>\n",
       "    </tr>\n",
       "    <tr>\n",
       "      <th>25</th>\n",
       "      <td>b'7397-57129-0113'</td>\n",
       "      <td>171.585973</td>\n",
       "      <td>48.748663</td>\n",
       "      <td>4.240028</td>\n",
       "      <td>1.280000</td>\n",
       "      <td>2.934000</td>\n",
       "      <td>0.282115</td>\n",
       "    </tr>\n",
       "    <tr>\n",
       "      <th>26</th>\n",
       "      <td>b'7275-57093-0263'</td>\n",
       "      <td>137.624030</td>\n",
       "      <td>54.463913</td>\n",
       "      <td>4.198763</td>\n",
       "      <td>2.331010</td>\n",
       "      <td>2.227602</td>\n",
       "      <td>0.365603</td>\n",
       "    </tr>\n",
       "    <tr>\n",
       "      <th>27</th>\n",
       "      <td>b'11309-58428-0769'</td>\n",
       "      <td>1.672459</td>\n",
       "      <td>7.634672</td>\n",
       "      <td>5.063582</td>\n",
       "      <td>1.624126</td>\n",
       "      <td>1.530789</td>\n",
       "      <td>0.781977</td>\n",
       "    </tr>\n",
       "    <tr>\n",
       "      <th>28</th>\n",
       "      <td>b'11388-58487-0928'</td>\n",
       "      <td>170.745816</td>\n",
       "      <td>31.272159</td>\n",
       "      <td>5.172700</td>\n",
       "      <td>1.683978</td>\n",
       "      <td>2.336409</td>\n",
       "      <td>0.683181</td>\n",
       "    </tr>\n",
       "    <tr>\n",
       "      <th>29</th>\n",
       "      <td>b'11295-58456-0518'</td>\n",
       "      <td>348.238957</td>\n",
       "      <td>5.588619</td>\n",
       "      <td>5.632317</td>\n",
       "      <td>1.895165</td>\n",
       "      <td>3.067795</td>\n",
       "      <td>0.731741</td>\n",
       "    </tr>\n",
       "    <tr>\n",
       "      <th>30</th>\n",
       "      <td>b'10742-58198-0490'</td>\n",
       "      <td>232.425832</td>\n",
       "      <td>35.147586</td>\n",
       "      <td>5.966099</td>\n",
       "      <td>0.287693</td>\n",
       "      <td>0.296600</td>\n",
       "      <td>0.675704</td>\n",
       "    </tr>\n",
       "    <tr>\n",
       "      <th>31</th>\n",
       "      <td>b'7240-56665-0833'</td>\n",
       "      <td>22.207294</td>\n",
       "      <td>22.596656</td>\n",
       "      <td>4.650000</td>\n",
       "      <td>1.471648</td>\n",
       "      <td>2.324577</td>\n",
       "      <td>0.710501</td>\n",
       "    </tr>\n",
       "    <tr>\n",
       "      <th>32</th>\n",
       "      <td>b'11654-58543-0126'</td>\n",
       "      <td>259.930403</td>\n",
       "      <td>30.211239</td>\n",
       "      <td>4.468650</td>\n",
       "      <td>1.404035</td>\n",
       "      <td>1.927968</td>\n",
       "      <td>0.882459</td>\n",
       "    </tr>\n",
       "    <tr>\n",
       "      <th>33</th>\n",
       "      <td>b'10274-58170-0820'</td>\n",
       "      <td>156.860428</td>\n",
       "      <td>35.378276</td>\n",
       "      <td>4.351858</td>\n",
       "      <td>1.323640</td>\n",
       "      <td>1.441654</td>\n",
       "      <td>0.899759</td>\n",
       "    </tr>\n",
       "    <tr>\n",
       "      <th>34</th>\n",
       "      <td>b'10265-58512-0319'</td>\n",
       "      <td>169.119549</td>\n",
       "      <td>33.956773</td>\n",
       "      <td>4.344690</td>\n",
       "      <td>1.320535</td>\n",
       "      <td>0.543000</td>\n",
       "      <td>0.897654</td>\n",
       "    </tr>\n",
       "    <tr>\n",
       "      <th>35</th>\n",
       "      <td>b'8536-58015-0669'</td>\n",
       "      <td>252.109588</td>\n",
       "      <td>45.444064</td>\n",
       "      <td>5.437843</td>\n",
       "      <td>1.799045</td>\n",
       "      <td>0.414000</td>\n",
       "      <td>0.981370</td>\n",
       "    </tr>\n",
       "    <tr>\n",
       "      <th>36</th>\n",
       "      <td>b'7734-58133-0738'</td>\n",
       "      <td>27.255163</td>\n",
       "      <td>31.382818</td>\n",
       "      <td>6.220659</td>\n",
       "      <td>0.754776</td>\n",
       "      <td>0.829309</td>\n",
       "      <td>0.993504</td>\n",
       "    </tr>\n",
       "    <tr>\n",
       "      <th>37</th>\n",
       "      <td>b'11285-58402-0484'</td>\n",
       "      <td>352.086283</td>\n",
       "      <td>2.750309</td>\n",
       "      <td>4.447767</td>\n",
       "      <td>1.374742</td>\n",
       "      <td>1.009128</td>\n",
       "      <td>0.911387</td>\n",
       "    </tr>\n",
       "    <tr>\n",
       "      <th>38</th>\n",
       "      <td>b'10754-58224-0524'</td>\n",
       "      <td>218.509881</td>\n",
       "      <td>35.990135</td>\n",
       "      <td>6.977830</td>\n",
       "      <td>1.620841</td>\n",
       "      <td>1.767968</td>\n",
       "      <td>0.995128</td>\n",
       "    </tr>\n",
       "    <tr>\n",
       "      <th>39</th>\n",
       "      <td>b'8746-58396-0088'</td>\n",
       "      <td>6.376457</td>\n",
       "      <td>4.850228</td>\n",
       "      <td>4.529605</td>\n",
       "      <td>1.402542</td>\n",
       "      <td>1.364550</td>\n",
       "      <td>0.996143</td>\n",
       "    </tr>\n",
       "    <tr>\n",
       "      <th>40</th>\n",
       "      <td>b'10732-58253-0652'</td>\n",
       "      <td>241.600809</td>\n",
       "      <td>39.888079</td>\n",
       "      <td>4.254900</td>\n",
       "      <td>1.281700</td>\n",
       "      <td>1.435214</td>\n",
       "      <td>0.926668</td>\n",
       "    </tr>\n",
       "    <tr>\n",
       "      <th>41</th>\n",
       "      <td>b'10250-58472-0801'</td>\n",
       "      <td>193.118058</td>\n",
       "      <td>34.809704</td>\n",
       "      <td>4.008832</td>\n",
       "      <td>1.196498</td>\n",
       "      <td>1.421675</td>\n",
       "      <td>0.953088</td>\n",
       "    </tr>\n",
       "    <tr>\n",
       "      <th>42</th>\n",
       "      <td>b'8793-57391-0587'</td>\n",
       "      <td>25.840592</td>\n",
       "      <td>1.183334</td>\n",
       "      <td>4.211000</td>\n",
       "      <td>4.217786</td>\n",
       "      <td>4.384295</td>\n",
       "      <td>0.686491</td>\n",
       "    </tr>\n",
       "    <tr>\n",
       "      <th>43</th>\n",
       "      <td>b'6483-56341-0309'</td>\n",
       "      <td>195.527850</td>\n",
       "      <td>28.188590</td>\n",
       "      <td>4.870000</td>\n",
       "      <td>4.863421</td>\n",
       "      <td>4.289404</td>\n",
       "      <td>0.778534</td>\n",
       "    </tr>\n",
       "    <tr>\n",
       "      <th>44</th>\n",
       "      <td>b'8398-57870-0306'</td>\n",
       "      <td>216.803788</td>\n",
       "      <td>56.318975</td>\n",
       "      <td>4.247000</td>\n",
       "      <td>4.266328</td>\n",
       "      <td>4.200158</td>\n",
       "      <td>0.582151</td>\n",
       "    </tr>\n",
       "    <tr>\n",
       "      <th>45</th>\n",
       "      <td>b'8402-57843-0152'</td>\n",
       "      <td>216.645200</td>\n",
       "      <td>54.606315</td>\n",
       "      <td>4.856000</td>\n",
       "      <td>4.872342</td>\n",
       "      <td>4.869170</td>\n",
       "      <td>0.720700</td>\n",
       "    </tr>\n",
       "    <tr>\n",
       "      <th>46</th>\n",
       "      <td>b'8788-57360-0515'</td>\n",
       "      <td>14.095678</td>\n",
       "      <td>-0.047495</td>\n",
       "      <td>4.209000</td>\n",
       "      <td>4.157121</td>\n",
       "      <td>3.859725</td>\n",
       "      <td>0.914827</td>\n",
       "    </tr>\n",
       "    <tr>\n",
       "      <th>47</th>\n",
       "      <td>b'7822-57041-0595'</td>\n",
       "      <td>41.180202</td>\n",
       "      <td>0.529201</td>\n",
       "      <td>4.028000</td>\n",
       "      <td>4.017081</td>\n",
       "      <td>4.265000</td>\n",
       "      <td>0.859839</td>\n",
       "    </tr>\n",
       "    <tr>\n",
       "      <th>48</th>\n",
       "      <td>b'4206-55471-0252'</td>\n",
       "      <td>343.191753</td>\n",
       "      <td>-0.945692</td>\n",
       "      <td>4.086000</td>\n",
       "      <td>4.073198</td>\n",
       "      <td>4.150743</td>\n",
       "      <td>0.643161</td>\n",
       "    </tr>\n",
       "    <tr>\n",
       "      <th>49</th>\n",
       "      <td>b'7848-56959-0949'</td>\n",
       "      <td>0.194550</td>\n",
       "      <td>1.164235</td>\n",
       "      <td>4.248000</td>\n",
       "      <td>4.248619</td>\n",
       "      <td>0.504176</td>\n",
       "      <td>0.320482</td>\n",
       "    </tr>\n",
       "    <tr>\n",
       "      <th>50</th>\n",
       "      <td>b'4198-55480-0090'</td>\n",
       "      <td>330.658145</td>\n",
       "      <td>-1.038318</td>\n",
       "      <td>4.102000</td>\n",
       "      <td>4.107836</td>\n",
       "      <td>0.425440</td>\n",
       "      <td>0.351081</td>\n",
       "    </tr>\n",
       "    <tr>\n",
       "      <th>51</th>\n",
       "      <td>b'7397-57129-0113'</td>\n",
       "      <td>171.585973</td>\n",
       "      <td>48.748663</td>\n",
       "      <td>4.240028</td>\n",
       "      <td>1.280000</td>\n",
       "      <td>2.934000</td>\n",
       "      <td>0.282115</td>\n",
       "    </tr>\n",
       "    <tr>\n",
       "      <th>52</th>\n",
       "      <td>b'6830-56429-0648'</td>\n",
       "      <td>197.419602</td>\n",
       "      <td>57.552767</td>\n",
       "      <td>4.281000</td>\n",
       "      <td>4.284448</td>\n",
       "      <td>0.333000</td>\n",
       "      <td>0.066546</td>\n",
       "    </tr>\n",
       "    <tr>\n",
       "      <th>53</th>\n",
       "      <td>b'4716-55738-0002'</td>\n",
       "      <td>230.940419</td>\n",
       "      <td>33.799956</td>\n",
       "      <td>5.330000</td>\n",
       "      <td>5.330000</td>\n",
       "      <td>4.310000</td>\n",
       "      <td>0.225492</td>\n",
       "    </tr>\n",
       "    <tr>\n",
       "      <th>54</th>\n",
       "      <td>b'8505-57834-0295'</td>\n",
       "      <td>211.081841</td>\n",
       "      <td>40.093836</td>\n",
       "      <td>4.008000</td>\n",
       "      <td>3.989247</td>\n",
       "      <td>0.395827</td>\n",
       "      <td>0.248810</td>\n",
       "    </tr>\n",
       "    <tr>\n",
       "      <th>55</th>\n",
       "      <td>b'8364-58138-0799'</td>\n",
       "      <td>159.336738</td>\n",
       "      <td>42.223935</td>\n",
       "      <td>4.209630</td>\n",
       "      <td>4.244005</td>\n",
       "      <td>2.269000</td>\n",
       "      <td>0.246807</td>\n",
       "    </tr>\n",
       "    <tr>\n",
       "      <th>56</th>\n",
       "      <td>b'7275-57093-0263'</td>\n",
       "      <td>137.624030</td>\n",
       "      <td>54.463913</td>\n",
       "      <td>4.198763</td>\n",
       "      <td>2.331010</td>\n",
       "      <td>2.227602</td>\n",
       "      <td>0.365603</td>\n",
       "    </tr>\n",
       "  </tbody>\n",
       "</table>\n",
       "</div>"
      ],
      "text/plain": [
       "                  OBJID          RA        DEC         Z     Z_SYS   max35_z  \\\n",
       "0    b'4217-55478-0338'    1.658320  -0.615639  4.435000  4.442282  4.395265   \n",
       "1    b'4205-55454-0456'  340.528727  -0.864402  4.009000  4.014079  3.878712   \n",
       "2    b'0983-52443-0301'  312.423281  -0.680922  4.187227  4.182726  4.154698   \n",
       "3    b'0411-51817-0399'   45.105127   0.540065  4.199800  4.207335  4.152000   \n",
       "4    b'7719-58082-0109'   13.558970  31.766886  4.227000  4.310052  4.240692   \n",
       "5    b'7862-56984-0682'    1.475132   0.511677  4.137000  4.122035  4.052000   \n",
       "6    b'3590-55201-0338'   11.818089  -0.597285  4.185000  4.162348  3.897789   \n",
       "7    b'4202-55445-0226'  336.554134  -0.516342  4.009000  4.006672  3.762000   \n",
       "8    b'4217-55478-0580'    1.019638   0.010856  4.310000  4.303564  4.316827   \n",
       "9    b'4232-55447-0852'   27.550942   0.272996  4.456000  4.469812  4.368428   \n",
       "10   b'8398-57870-0306'  216.803788  56.318975  4.247000  4.266328  4.200158   \n",
       "11   b'8793-57391-0587'   25.840592   1.183334  4.211000  4.217786  4.384295   \n",
       "12  b'10232-58223-0808'  151.147820  34.441202  4.065919  4.072194  0.716400   \n",
       "13  b'10925-58271-0642'  231.751537  35.019757  4.079770  4.095711  0.827348   \n",
       "14   b'4257-55480-0124'   44.475522   1.335277  4.240000  4.239346  4.222870   \n",
       "15  b'11055-58429-0965'   15.081000   9.836346  7.011245  7.011245  3.837936   \n",
       "16   b'7819-57280-0132'   43.543217   0.896061  4.005332  4.034125  1.189000   \n",
       "17  b'11277-58450-0826'    0.525885   9.105913  4.741986  4.769994  1.794426   \n",
       "18   b'4722-55735-0730'  234.615402  30.429379  6.514745  6.514745  0.780292   \n",
       "19   b'8792-57364-0026'   25.652342  -0.336764  4.299917  4.299917  1.145000   \n",
       "20   b'7378-56715-0527'  122.198621  48.584590  6.267025  6.267025  0.806387   \n",
       "21   b'4710-55707-0828'  208.509154  40.238886  4.760000  4.760000  0.948216   \n",
       "22  b'10902-58396-0856'  256.824101  34.786986  6.478034  6.478034  1.192318   \n",
       "23  b'10757-58223-0254'  217.288546  34.431755  4.059155  4.059155  1.370019   \n",
       "24   b'8168-56992-0460'  154.284797  50.331908  4.344030  4.432530  1.337000   \n",
       "25   b'7397-57129-0113'  171.585973  48.748663  4.240028  1.280000  2.934000   \n",
       "26   b'7275-57093-0263'  137.624030  54.463913  4.198763  2.331010  2.227602   \n",
       "27  b'11309-58428-0769'    1.672459   7.634672  5.063582  1.624126  1.530789   \n",
       "28  b'11388-58487-0928'  170.745816  31.272159  5.172700  1.683978  2.336409   \n",
       "29  b'11295-58456-0518'  348.238957   5.588619  5.632317  1.895165  3.067795   \n",
       "30  b'10742-58198-0490'  232.425832  35.147586  5.966099  0.287693  0.296600   \n",
       "31   b'7240-56665-0833'   22.207294  22.596656  4.650000  1.471648  2.324577   \n",
       "32  b'11654-58543-0126'  259.930403  30.211239  4.468650  1.404035  1.927968   \n",
       "33  b'10274-58170-0820'  156.860428  35.378276  4.351858  1.323640  1.441654   \n",
       "34  b'10265-58512-0319'  169.119549  33.956773  4.344690  1.320535  0.543000   \n",
       "35   b'8536-58015-0669'  252.109588  45.444064  5.437843  1.799045  0.414000   \n",
       "36   b'7734-58133-0738'   27.255163  31.382818  6.220659  0.754776  0.829309   \n",
       "37  b'11285-58402-0484'  352.086283   2.750309  4.447767  1.374742  1.009128   \n",
       "38  b'10754-58224-0524'  218.509881  35.990135  6.977830  1.620841  1.767968   \n",
       "39   b'8746-58396-0088'    6.376457   4.850228  4.529605  1.402542  1.364550   \n",
       "40  b'10732-58253-0652'  241.600809  39.888079  4.254900  1.281700  1.435214   \n",
       "41  b'10250-58472-0801'  193.118058  34.809704  4.008832  1.196498  1.421675   \n",
       "42   b'8793-57391-0587'   25.840592   1.183334  4.211000  4.217786  4.384295   \n",
       "43   b'6483-56341-0309'  195.527850  28.188590  4.870000  4.863421  4.289404   \n",
       "44   b'8398-57870-0306'  216.803788  56.318975  4.247000  4.266328  4.200158   \n",
       "45   b'8402-57843-0152'  216.645200  54.606315  4.856000  4.872342  4.869170   \n",
       "46   b'8788-57360-0515'   14.095678  -0.047495  4.209000  4.157121  3.859725   \n",
       "47   b'7822-57041-0595'   41.180202   0.529201  4.028000  4.017081  4.265000   \n",
       "48   b'4206-55471-0252'  343.191753  -0.945692  4.086000  4.073198  4.150743   \n",
       "49   b'7848-56959-0949'    0.194550   1.164235  4.248000  4.248619  0.504176   \n",
       "50   b'4198-55480-0090'  330.658145  -1.038318  4.102000  4.107836  0.425440   \n",
       "51   b'7397-57129-0113'  171.585973  48.748663  4.240028  1.280000  2.934000   \n",
       "52   b'6830-56429-0648'  197.419602  57.552767  4.281000  4.284448  0.333000   \n",
       "53   b'4716-55738-0002'  230.940419  33.799956  5.330000  5.330000  4.310000   \n",
       "54   b'8505-57834-0295'  211.081841  40.093836  4.008000  3.989247  0.395827   \n",
       "55   b'8364-58138-0799'  159.336738  42.223935  4.209630  4.244005  2.269000   \n",
       "56   b'7275-57093-0263'  137.624030  54.463913  4.198763  2.331010  2.227602   \n",
       "\n",
       "       preds  \n",
       "0   0.010881  \n",
       "1   0.055041  \n",
       "2   0.011180  \n",
       "3   0.011280  \n",
       "4   0.108101  \n",
       "5   0.172301  \n",
       "6   0.245229  \n",
       "7   0.289440  \n",
       "8   0.321278  \n",
       "9   0.363159  \n",
       "10  0.582151  \n",
       "11  0.686491  \n",
       "12  0.753310  \n",
       "13  0.455474  \n",
       "14  0.445497  \n",
       "15  0.892857  \n",
       "16  0.828911  \n",
       "17  0.840668  \n",
       "18  0.997292  \n",
       "19  0.998130  \n",
       "20  0.982489  \n",
       "21  0.997551  \n",
       "22  0.989710  \n",
       "23  0.992607  \n",
       "24  0.983229  \n",
       "25  0.282115  \n",
       "26  0.365603  \n",
       "27  0.781977  \n",
       "28  0.683181  \n",
       "29  0.731741  \n",
       "30  0.675704  \n",
       "31  0.710501  \n",
       "32  0.882459  \n",
       "33  0.899759  \n",
       "34  0.897654  \n",
       "35  0.981370  \n",
       "36  0.993504  \n",
       "37  0.911387  \n",
       "38  0.995128  \n",
       "39  0.996143  \n",
       "40  0.926668  \n",
       "41  0.953088  \n",
       "42  0.686491  \n",
       "43  0.778534  \n",
       "44  0.582151  \n",
       "45  0.720700  \n",
       "46  0.914827  \n",
       "47  0.859839  \n",
       "48  0.643161  \n",
       "49  0.320482  \n",
       "50  0.351081  \n",
       "51  0.282115  \n",
       "52  0.066546  \n",
       "53  0.225492  \n",
       "54  0.248810  \n",
       "55  0.246807  \n",
       "56  0.365603  "
      ]
     },
     "execution_count": 3,
     "metadata": {},
     "output_type": "execute_result"
    }
   ],
   "source": [
    "manual_data = manual_data[['OBJID', 'RA', 'DEC', 'Z', 'Z_SYS', 'max35_z', 'preds']]\n",
    "manual_data"
   ]
  },
  {
   "cell_type": "code",
   "execution_count": 8,
   "id": "de54fe1b",
   "metadata": {},
   "outputs": [],
   "source": [
    "links_dr16 = []\n",
    "links_dr14 = []\n",
    "for i in range(manual_data.shape[0]):\n",
    "    row = manual_data.iloc[i]\n",
    "    objid = row['OBJID'][2:-1]\n",
    "    plateid, mjd, fiberid = tuple(objid.split('-'))\n",
    "    links_dr16.append(f'https://dr16.sdss.org/optical/spectrum/view?plateid={plateid}&mjd={mjd}&fiberid={fiberid}&run2d[]=v5_13_0&run2d[]=26&run2d[]=103&run2d[]=104&matches=any')\n",
    "    links_dr14.append(f'https://dr14.sdss.org/optical/spectrum/view?plateid={plateid}&mjd={mjd}&fiberid={fiberid}&run2d[]=v5_13_0&run2d[]=26&run2d[]=103&run2d[]=104&matches=any')\n",
    "manual_data['links_dr16'] = links_dr16\n",
    "manual_data['links_dr14'] = links_dr14\n",
    "manual_data.insert(0, 'index', range(manual_data.shape[0]))\n",
    "manual_data.to_csv('dr16q_outliers_02.csv', index=False)"
   ]
  },
  {
   "cell_type": "code",
   "execution_count": 9,
   "id": "98f2097b",
   "metadata": {},
   "outputs": [
    {
     "data": {
      "text/html": [
       "<div>\n",
       "<style scoped>\n",
       "    .dataframe tbody tr th:only-of-type {\n",
       "        vertical-align: middle;\n",
       "    }\n",
       "\n",
       "    .dataframe tbody tr th {\n",
       "        vertical-align: top;\n",
       "    }\n",
       "\n",
       "    .dataframe thead th {\n",
       "        text-align: right;\n",
       "    }\n",
       "</style>\n",
       "<table border=\"1\" class=\"dataframe\">\n",
       "  <thead>\n",
       "    <tr style=\"text-align: right;\">\n",
       "      <th></th>\n",
       "      <th>index</th>\n",
       "      <th>OBJID</th>\n",
       "      <th>RA</th>\n",
       "      <th>DEC</th>\n",
       "      <th>Z</th>\n",
       "      <th>Z_SYS</th>\n",
       "      <th>max35_z</th>\n",
       "      <th>preds</th>\n",
       "      <th>links_dr16</th>\n",
       "      <th>links_dr14</th>\n",
       "    </tr>\n",
       "  </thead>\n",
       "  <tbody>\n",
       "    <tr>\n",
       "      <th>0</th>\n",
       "      <td>0</td>\n",
       "      <td>b'4217-55478-0338'</td>\n",
       "      <td>1.658320</td>\n",
       "      <td>-0.615639</td>\n",
       "      <td>4.435000</td>\n",
       "      <td>4.442282</td>\n",
       "      <td>4.395265</td>\n",
       "      <td>0.010881</td>\n",
       "      <td>https://dr16.sdss.org/optical/spectrum/view?pl...</td>\n",
       "      <td>https://dr14.sdss.org/optical/spectrum/view?pl...</td>\n",
       "    </tr>\n",
       "    <tr>\n",
       "      <th>1</th>\n",
       "      <td>1</td>\n",
       "      <td>b'4205-55454-0456'</td>\n",
       "      <td>340.528727</td>\n",
       "      <td>-0.864402</td>\n",
       "      <td>4.009000</td>\n",
       "      <td>4.014079</td>\n",
       "      <td>3.878712</td>\n",
       "      <td>0.055041</td>\n",
       "      <td>https://dr16.sdss.org/optical/spectrum/view?pl...</td>\n",
       "      <td>https://dr14.sdss.org/optical/spectrum/view?pl...</td>\n",
       "    </tr>\n",
       "    <tr>\n",
       "      <th>2</th>\n",
       "      <td>2</td>\n",
       "      <td>b'0983-52443-0301'</td>\n",
       "      <td>312.423281</td>\n",
       "      <td>-0.680922</td>\n",
       "      <td>4.187227</td>\n",
       "      <td>4.182726</td>\n",
       "      <td>4.154698</td>\n",
       "      <td>0.011180</td>\n",
       "      <td>https://dr16.sdss.org/optical/spectrum/view?pl...</td>\n",
       "      <td>https://dr14.sdss.org/optical/spectrum/view?pl...</td>\n",
       "    </tr>\n",
       "    <tr>\n",
       "      <th>3</th>\n",
       "      <td>3</td>\n",
       "      <td>b'0411-51817-0399'</td>\n",
       "      <td>45.105127</td>\n",
       "      <td>0.540065</td>\n",
       "      <td>4.199800</td>\n",
       "      <td>4.207335</td>\n",
       "      <td>4.152000</td>\n",
       "      <td>0.011280</td>\n",
       "      <td>https://dr16.sdss.org/optical/spectrum/view?pl...</td>\n",
       "      <td>https://dr14.sdss.org/optical/spectrum/view?pl...</td>\n",
       "    </tr>\n",
       "    <tr>\n",
       "      <th>4</th>\n",
       "      <td>4</td>\n",
       "      <td>b'7719-58082-0109'</td>\n",
       "      <td>13.558970</td>\n",
       "      <td>31.766886</td>\n",
       "      <td>4.227000</td>\n",
       "      <td>4.310052</td>\n",
       "      <td>4.240692</td>\n",
       "      <td>0.108101</td>\n",
       "      <td>https://dr16.sdss.org/optical/spectrum/view?pl...</td>\n",
       "      <td>https://dr14.sdss.org/optical/spectrum/view?pl...</td>\n",
       "    </tr>\n",
       "  </tbody>\n",
       "</table>\n",
       "</div>"
      ],
      "text/plain": [
       "   index               OBJID          RA        DEC         Z     Z_SYS  \\\n",
       "0      0  b'4217-55478-0338'    1.658320  -0.615639  4.435000  4.442282   \n",
       "1      1  b'4205-55454-0456'  340.528727  -0.864402  4.009000  4.014079   \n",
       "2      2  b'0983-52443-0301'  312.423281  -0.680922  4.187227  4.182726   \n",
       "3      3  b'0411-51817-0399'   45.105127   0.540065  4.199800  4.207335   \n",
       "4      4  b'7719-58082-0109'   13.558970  31.766886  4.227000  4.310052   \n",
       "\n",
       "    max35_z     preds                                         links_dr16  \\\n",
       "0  4.395265  0.010881  https://dr16.sdss.org/optical/spectrum/view?pl...   \n",
       "1  3.878712  0.055041  https://dr16.sdss.org/optical/spectrum/view?pl...   \n",
       "2  4.154698  0.011180  https://dr16.sdss.org/optical/spectrum/view?pl...   \n",
       "3  4.152000  0.011280  https://dr16.sdss.org/optical/spectrum/view?pl...   \n",
       "4  4.240692  0.108101  https://dr16.sdss.org/optical/spectrum/view?pl...   \n",
       "\n",
       "                                          links_dr14  \n",
       "0  https://dr14.sdss.org/optical/spectrum/view?pl...  \n",
       "1  https://dr14.sdss.org/optical/spectrum/view?pl...  \n",
       "2  https://dr14.sdss.org/optical/spectrum/view?pl...  \n",
       "3  https://dr14.sdss.org/optical/spectrum/view?pl...  \n",
       "4  https://dr14.sdss.org/optical/spectrum/view?pl...  "
      ]
     },
     "execution_count": 9,
     "metadata": {},
     "output_type": "execute_result"
    }
   ],
   "source": [
    "manual_data.head(5)"
   ]
  },
  {
   "cell_type": "code",
   "execution_count": 6,
   "id": "e1e7dc24",
   "metadata": {},
   "outputs": [],
   "source": [
    "from PIL import Image\n",
    "from io import BytesIO\n",
    "from selenium import webdriver\n",
    "from selenium.webdriver.chrome.options import Options\n",
    "from selenium.webdriver.chrome.service import Service\n",
    "from webdriver_manager.chrome import ChromeDriverManager\n",
    "import logging\n",
    "import os\n",
    "import time\n",
    "\n",
    "# Set default download folder for ChromeDriver\n",
    "videos_folder = r\"./dr14_specs\"\n",
    "if not os.path.exists(videos_folder):\n",
    "    os.makedirs(videos_folder)\n",
    "prefs = {\"download.default_directory\": videos_folder}\n",
    "\n",
    "def open_url(address, name, videos_folder):\n",
    "    # SELENIUM SETUP\n",
    "    logging.getLogger('WDM').setLevel(logging.WARNING)  # just to hide not so rilevant webdriver-manager messages\n",
    "    chrome_options = Options()\n",
    "    chrome_options.headless = True\n",
    "    chrome_options.add_experimental_option(\"prefs\", prefs)\n",
    "    driver = webdriver.Chrome(service=Service(ChromeDriverManager().install()), options=chrome_options)\n",
    "    driver.implicitly_wait(1)\n",
    "    driver.maximize_window()\n",
    "    driver.get(address)\n",
    "    driver.set_window_size(1920, 1080)  # to set the screenshot width\n",
    "    time.sleep(60)\n",
    "    save_screenshot(driver, '{}/{}.png'.format(videos_folder, name))\n",
    "    driver.quit()\n",
    "\n",
    "def save_screenshot(driver, file_name):\n",
    "    height, width = scroll_down(driver)\n",
    "    driver.set_window_size(width, height)\n",
    "    img_binary = driver.get_screenshot_as_png()\n",
    "    img = Image.open(BytesIO(img_binary))\n",
    "    img.save(file_name)\n",
    "    # print(file_name)\n",
    "    print(\"Screenshot saved!\")\n",
    "\n",
    "def scroll_down(driver):\n",
    "    total_width = driver.execute_script(\"return document.body.offsetWidth\")\n",
    "    total_height = driver.execute_script(\"return document.body.parentNode.scrollHeight\")\n",
    "    viewport_width = driver.execute_script(\"return document.body.clientWidth\")\n",
    "    viewport_height = driver.execute_script(\"return window.innerHeight\")\n",
    "\n",
    "    rectangles = []\n",
    "\n",
    "    i = 0\n",
    "    while i < total_height:\n",
    "        ii = 0\n",
    "        top_height = i + viewport_height\n",
    "\n",
    "        if top_height > total_height:\n",
    "            top_height = total_height\n",
    "\n",
    "        while ii < total_width:\n",
    "            top_width = ii + viewport_width\n",
    "\n",
    "            if top_width > total_width:\n",
    "                top_width = total_width\n",
    "\n",
    "            rectangles.append((ii, i, top_width, top_height))\n",
    "\n",
    "            ii = ii + viewport_width\n",
    "\n",
    "        i = i + viewport_height\n",
    "\n",
    "    previous = None\n",
    "    part = 0\n",
    "\n",
    "    for rectangle in rectangles:\n",
    "        if not previous is None:\n",
    "            driver.execute_script(\"window.scrollTo({0}, {1})\".format(rectangle[0], rectangle[1]))\n",
    "            time.sleep(0.5)\n",
    "        # time.sleep(0.2)\n",
    "\n",
    "        if rectangle[1] + viewport_height > total_height:\n",
    "            offset = (rectangle[0], total_height - viewport_height)\n",
    "        else:\n",
    "            offset = (rectangle[0], rectangle[1])\n",
    "\n",
    "        previous = rectangle\n",
    "\n",
    "    return total_height, total_width\n",
    "\n",
    "# open_url(manual_data['links'].iloc[0])\n"
   ]
  },
  {
   "cell_type": "code",
   "execution_count": 7,
   "id": "c36ed058",
   "metadata": {},
   "outputs": [
    {
     "name": "stderr",
     "output_type": "stream",
     "text": [
      "  2%|▋                                         | 1/57 [01:23<1:18:14, 83.83s/it]"
     ]
    },
    {
     "name": "stdout",
     "output_type": "stream",
     "text": [
      "Screenshot saved!\n"
     ]
    },
    {
     "name": "stderr",
     "output_type": "stream",
     "text": [
      "\r",
      "  4%|█▍                                        | 2/57 [02:48<1:17:17, 84.31s/it]"
     ]
    },
    {
     "name": "stdout",
     "output_type": "stream",
     "text": [
      "Screenshot saved!\n"
     ]
    },
    {
     "name": "stderr",
     "output_type": "stream",
     "text": [
      "\r",
      "  5%|██▏                                       | 3/57 [04:13<1:16:09, 84.63s/it]"
     ]
    },
    {
     "name": "stdout",
     "output_type": "stream",
     "text": [
      "Screenshot saved!\n"
     ]
    },
    {
     "name": "stderr",
     "output_type": "stream",
     "text": [
      "\r",
      "  7%|██▉                                       | 4/57 [05:38<1:14:46, 84.66s/it]"
     ]
    },
    {
     "name": "stdout",
     "output_type": "stream",
     "text": [
      "Screenshot saved!\n"
     ]
    },
    {
     "name": "stderr",
     "output_type": "stream",
     "text": [
      "\r",
      "  9%|███▋                                      | 5/57 [07:03<1:13:28, 84.79s/it]"
     ]
    },
    {
     "name": "stdout",
     "output_type": "stream",
     "text": [
      "Screenshot saved!\n"
     ]
    },
    {
     "name": "stderr",
     "output_type": "stream",
     "text": [
      "\r",
      " 11%|████▍                                     | 6/57 [08:28<1:12:19, 85.10s/it]"
     ]
    },
    {
     "name": "stdout",
     "output_type": "stream",
     "text": [
      "Screenshot saved!\n"
     ]
    },
    {
     "name": "stderr",
     "output_type": "stream",
     "text": [
      "\r",
      " 12%|█████▏                                    | 7/57 [09:54<1:11:01, 85.23s/it]"
     ]
    },
    {
     "name": "stdout",
     "output_type": "stream",
     "text": [
      "Screenshot saved!\n"
     ]
    },
    {
     "name": "stderr",
     "output_type": "stream",
     "text": [
      "\r",
      " 14%|█████▉                                    | 8/57 [11:21<1:09:59, 85.70s/it]"
     ]
    },
    {
     "name": "stdout",
     "output_type": "stream",
     "text": [
      "Screenshot saved!\n"
     ]
    },
    {
     "name": "stderr",
     "output_type": "stream",
     "text": [
      "\r",
      " 16%|██████▋                                   | 9/57 [12:45<1:08:08, 85.19s/it]"
     ]
    },
    {
     "name": "stdout",
     "output_type": "stream",
     "text": [
      "Screenshot saved!\n"
     ]
    },
    {
     "name": "stderr",
     "output_type": "stream",
     "text": [
      "\r",
      " 18%|███████▏                                 | 10/57 [14:08<1:06:19, 84.67s/it]"
     ]
    },
    {
     "name": "stdout",
     "output_type": "stream",
     "text": [
      "Screenshot saved!\n"
     ]
    },
    {
     "name": "stderr",
     "output_type": "stream",
     "text": [
      "\r",
      " 19%|███████▉                                 | 11/57 [15:34<1:05:04, 84.89s/it]"
     ]
    },
    {
     "name": "stdout",
     "output_type": "stream",
     "text": [
      "Screenshot saved!\n"
     ]
    },
    {
     "name": "stderr",
     "output_type": "stream",
     "text": [
      "\r",
      " 21%|████████▋                                | 12/57 [16:59<1:03:51, 85.14s/it]"
     ]
    },
    {
     "name": "stdout",
     "output_type": "stream",
     "text": [
      "Screenshot saved!\n"
     ]
    },
    {
     "name": "stderr",
     "output_type": "stream",
     "text": [
      "\r",
      " 23%|█████████▎                               | 13/57 [18:25<1:02:28, 85.20s/it]"
     ]
    },
    {
     "name": "stdout",
     "output_type": "stream",
     "text": [
      "Screenshot saved!\n"
     ]
    },
    {
     "name": "stderr",
     "output_type": "stream",
     "text": [
      "\r",
      " 25%|██████████                               | 14/57 [19:48<1:00:36, 84.57s/it]"
     ]
    },
    {
     "name": "stdout",
     "output_type": "stream",
     "text": [
      "Screenshot saved!\n"
     ]
    },
    {
     "name": "stderr",
     "output_type": "stream",
     "text": [
      "\r",
      " 26%|███████████▎                               | 15/57 [21:12<59:04, 84.39s/it]"
     ]
    },
    {
     "name": "stdout",
     "output_type": "stream",
     "text": [
      "Screenshot saved!\n"
     ]
    },
    {
     "name": "stderr",
     "output_type": "stream",
     "text": [
      "\r",
      " 28%|████████████                               | 16/57 [22:35<57:25, 84.04s/it]"
     ]
    },
    {
     "name": "stdout",
     "output_type": "stream",
     "text": [
      "Screenshot saved!\n"
     ]
    },
    {
     "name": "stderr",
     "output_type": "stream",
     "text": [
      "\r",
      " 30%|████████████▊                              | 17/57 [23:59<56:05, 84.13s/it]"
     ]
    },
    {
     "name": "stdout",
     "output_type": "stream",
     "text": [
      "Screenshot saved!\n"
     ]
    },
    {
     "name": "stderr",
     "output_type": "stream",
     "text": [
      "\r",
      " 32%|█████████████▌                             | 18/57 [25:23<54:42, 84.16s/it]"
     ]
    },
    {
     "name": "stdout",
     "output_type": "stream",
     "text": [
      "Screenshot saved!\n"
     ]
    },
    {
     "name": "stderr",
     "output_type": "stream",
     "text": [
      "\r",
      " 33%|██████████████▎                            | 19/57 [26:47<53:05, 83.82s/it]"
     ]
    },
    {
     "name": "stdout",
     "output_type": "stream",
     "text": [
      "Screenshot saved!\n"
     ]
    },
    {
     "name": "stderr",
     "output_type": "stream",
     "text": [
      "\r",
      " 35%|███████████████                            | 20/57 [28:10<51:35, 83.66s/it]"
     ]
    },
    {
     "name": "stdout",
     "output_type": "stream",
     "text": [
      "Screenshot saved!\n"
     ]
    },
    {
     "name": "stderr",
     "output_type": "stream",
     "text": [
      "\r",
      " 37%|███████████████▊                           | 21/57 [29:34<50:20, 83.90s/it]"
     ]
    },
    {
     "name": "stdout",
     "output_type": "stream",
     "text": [
      "Screenshot saved!\n"
     ]
    },
    {
     "name": "stderr",
     "output_type": "stream",
     "text": [
      "\r",
      " 39%|████████████████▌                          | 22/57 [30:58<48:49, 83.71s/it]"
     ]
    },
    {
     "name": "stdout",
     "output_type": "stream",
     "text": [
      "Screenshot saved!\n"
     ]
    },
    {
     "name": "stderr",
     "output_type": "stream",
     "text": [
      "\r",
      " 40%|█████████████████▎                         | 23/57 [32:21<47:23, 83.64s/it]"
     ]
    },
    {
     "name": "stdout",
     "output_type": "stream",
     "text": [
      "Screenshot saved!\n"
     ]
    },
    {
     "name": "stderr",
     "output_type": "stream",
     "text": [
      "\r",
      " 42%|██████████████████                         | 24/57 [33:44<45:57, 83.56s/it]"
     ]
    },
    {
     "name": "stdout",
     "output_type": "stream",
     "text": [
      "Screenshot saved!\n"
     ]
    },
    {
     "name": "stderr",
     "output_type": "stream",
     "text": [
      "\r",
      " 44%|██████████████████▊                        | 25/57 [35:08<44:37, 83.68s/it]"
     ]
    },
    {
     "name": "stdout",
     "output_type": "stream",
     "text": [
      "Screenshot saved!\n"
     ]
    },
    {
     "name": "stderr",
     "output_type": "stream",
     "text": [
      "\r",
      " 46%|███████████████████▌                       | 26/57 [36:32<43:11, 83.61s/it]"
     ]
    },
    {
     "name": "stdout",
     "output_type": "stream",
     "text": [
      "Screenshot saved!\n"
     ]
    },
    {
     "name": "stderr",
     "output_type": "stream",
     "text": [
      "\r",
      " 47%|████████████████████▎                      | 27/57 [37:55<41:45, 83.51s/it]"
     ]
    },
    {
     "name": "stdout",
     "output_type": "stream",
     "text": [
      "Screenshot saved!\n"
     ]
    },
    {
     "name": "stderr",
     "output_type": "stream",
     "text": [
      "\r",
      " 49%|█████████████████████                      | 28/57 [39:19<40:28, 83.75s/it]"
     ]
    },
    {
     "name": "stdout",
     "output_type": "stream",
     "text": [
      "Screenshot saved!\n"
     ]
    },
    {
     "name": "stderr",
     "output_type": "stream",
     "text": [
      "\r",
      " 51%|█████████████████████▉                     | 29/57 [40:43<39:02, 83.66s/it]"
     ]
    },
    {
     "name": "stdout",
     "output_type": "stream",
     "text": [
      "Screenshot saved!\n"
     ]
    },
    {
     "name": "stderr",
     "output_type": "stream",
     "text": [
      "\r",
      " 53%|██████████████████████▋                    | 30/57 [42:06<37:37, 83.61s/it]"
     ]
    },
    {
     "name": "stdout",
     "output_type": "stream",
     "text": [
      "Screenshot saved!\n"
     ]
    },
    {
     "name": "stderr",
     "output_type": "stream",
     "text": [
      "\r",
      " 54%|███████████████████████▍                   | 31/57 [43:30<36:12, 83.56s/it]"
     ]
    },
    {
     "name": "stdout",
     "output_type": "stream",
     "text": [
      "Screenshot saved!\n"
     ]
    },
    {
     "name": "stderr",
     "output_type": "stream",
     "text": [
      "\r",
      " 56%|████████████████████████▏                  | 32/57 [44:55<35:01, 84.06s/it]"
     ]
    },
    {
     "name": "stdout",
     "output_type": "stream",
     "text": [
      "Screenshot saved!\n"
     ]
    },
    {
     "name": "stderr",
     "output_type": "stream",
     "text": [
      "\r",
      " 58%|████████████████████████▉                  | 33/57 [46:20<33:44, 84.36s/it]"
     ]
    },
    {
     "name": "stdout",
     "output_type": "stream",
     "text": [
      "Screenshot saved!\n"
     ]
    },
    {
     "name": "stderr",
     "output_type": "stream",
     "text": [
      "\r",
      " 60%|█████████████████████████▋                 | 34/57 [47:44<32:15, 84.16s/it]"
     ]
    },
    {
     "name": "stdout",
     "output_type": "stream",
     "text": [
      "Screenshot saved!\n"
     ]
    },
    {
     "name": "stderr",
     "output_type": "stream",
     "text": [
      "\r",
      " 61%|██████████████████████████▍                | 35/57 [49:07<30:45, 83.88s/it]"
     ]
    },
    {
     "name": "stdout",
     "output_type": "stream",
     "text": [
      "Screenshot saved!\n"
     ]
    },
    {
     "name": "stderr",
     "output_type": "stream",
     "text": [
      "\r",
      " 63%|███████████████████████████▏               | 36/57 [50:31<29:21, 83.90s/it]"
     ]
    },
    {
     "name": "stdout",
     "output_type": "stream",
     "text": [
      "Screenshot saved!\n"
     ]
    },
    {
     "name": "stderr",
     "output_type": "stream",
     "text": [
      "\r",
      " 65%|███████████████████████████▉               | 37/57 [51:54<27:54, 83.71s/it]"
     ]
    },
    {
     "name": "stdout",
     "output_type": "stream",
     "text": [
      "Screenshot saved!\n"
     ]
    },
    {
     "name": "stderr",
     "output_type": "stream",
     "text": [
      "\r",
      " 67%|████████████████████████████▋              | 38/57 [53:18<26:31, 83.78s/it]"
     ]
    },
    {
     "name": "stdout",
     "output_type": "stream",
     "text": [
      "Screenshot saved!\n"
     ]
    },
    {
     "name": "stderr",
     "output_type": "stream",
     "text": [
      "\r",
      " 68%|█████████████████████████████▍             | 39/57 [54:43<25:16, 84.23s/it]"
     ]
    },
    {
     "name": "stdout",
     "output_type": "stream",
     "text": [
      "Screenshot saved!\n"
     ]
    },
    {
     "name": "stderr",
     "output_type": "stream",
     "text": [
      "\r",
      " 70%|██████████████████████████████▏            | 40/57 [56:09<24:01, 84.79s/it]"
     ]
    },
    {
     "name": "stdout",
     "output_type": "stream",
     "text": [
      "Screenshot saved!\n"
     ]
    },
    {
     "name": "stderr",
     "output_type": "stream",
     "text": [
      "\r",
      " 72%|██████████████████████████████▉            | 41/57 [57:33<22:32, 84.52s/it]"
     ]
    },
    {
     "name": "stdout",
     "output_type": "stream",
     "text": [
      "Screenshot saved!\n"
     ]
    },
    {
     "name": "stderr",
     "output_type": "stream",
     "text": [
      "\r",
      " 74%|███████████████████████████████▋           | 42/57 [58:58<21:07, 84.47s/it]"
     ]
    },
    {
     "name": "stdout",
     "output_type": "stream",
     "text": [
      "Screenshot saved!\n"
     ]
    },
    {
     "name": "stderr",
     "output_type": "stream",
     "text": [
      "\r",
      " 75%|██████████████████████████████▉          | 43/57 [1:00:22<19:40, 84.35s/it]"
     ]
    },
    {
     "name": "stdout",
     "output_type": "stream",
     "text": [
      "Screenshot saved!\n"
     ]
    },
    {
     "name": "stderr",
     "output_type": "stream",
     "text": [
      "\r",
      " 77%|███████████████████████████████▋         | 44/57 [1:01:47<18:18, 84.52s/it]"
     ]
    },
    {
     "name": "stdout",
     "output_type": "stream",
     "text": [
      "Screenshot saved!\n"
     ]
    },
    {
     "name": "stderr",
     "output_type": "stream",
     "text": [
      "\r",
      " 79%|████████████████████████████████▎        | 45/57 [1:03:11<16:54, 84.56s/it]"
     ]
    },
    {
     "name": "stdout",
     "output_type": "stream",
     "text": [
      "Screenshot saved!\n"
     ]
    },
    {
     "name": "stderr",
     "output_type": "stream",
     "text": [
      "\r",
      " 81%|█████████████████████████████████        | 46/57 [1:04:38<15:36, 85.17s/it]"
     ]
    },
    {
     "name": "stdout",
     "output_type": "stream",
     "text": [
      "Screenshot saved!\n"
     ]
    },
    {
     "name": "stderr",
     "output_type": "stream",
     "text": [
      "\r",
      " 82%|█████████████████████████████████▊       | 47/57 [1:06:02<14:07, 84.71s/it]"
     ]
    },
    {
     "name": "stdout",
     "output_type": "stream",
     "text": [
      "Screenshot saved!\n"
     ]
    },
    {
     "name": "stderr",
     "output_type": "stream",
     "text": [
      "\r",
      " 84%|██████████████████████████████████▌      | 48/57 [1:07:26<12:40, 84.49s/it]"
     ]
    },
    {
     "name": "stdout",
     "output_type": "stream",
     "text": [
      "Screenshot saved!\n"
     ]
    },
    {
     "name": "stderr",
     "output_type": "stream",
     "text": [
      "\r",
      " 86%|███████████████████████████████████▏     | 49/57 [1:08:51<11:17, 84.65s/it]"
     ]
    },
    {
     "name": "stdout",
     "output_type": "stream",
     "text": [
      "Screenshot saved!\n"
     ]
    },
    {
     "name": "stderr",
     "output_type": "stream",
     "text": [
      "\r",
      " 88%|███████████████████████████████████▉     | 50/57 [1:10:16<09:53, 84.74s/it]"
     ]
    },
    {
     "name": "stdout",
     "output_type": "stream",
     "text": [
      "Screenshot saved!\n"
     ]
    },
    {
     "name": "stderr",
     "output_type": "stream",
     "text": [
      "\r",
      " 89%|████████████████████████████████████▋    | 51/57 [1:11:40<08:27, 84.57s/it]"
     ]
    },
    {
     "name": "stdout",
     "output_type": "stream",
     "text": [
      "Screenshot saved!\n"
     ]
    },
    {
     "name": "stderr",
     "output_type": "stream",
     "text": [
      "\r",
      " 91%|█████████████████████████████████████▍   | 52/57 [1:13:04<07:02, 84.48s/it]"
     ]
    },
    {
     "name": "stdout",
     "output_type": "stream",
     "text": [
      "Screenshot saved!\n"
     ]
    },
    {
     "name": "stderr",
     "output_type": "stream",
     "text": [
      "\r",
      " 93%|██████████████████████████████████████   | 53/57 [1:14:29<05:38, 84.57s/it]"
     ]
    },
    {
     "name": "stdout",
     "output_type": "stream",
     "text": [
      "Screenshot saved!\n"
     ]
    },
    {
     "name": "stderr",
     "output_type": "stream",
     "text": [
      "\r",
      " 95%|██████████████████████████████████████▊  | 54/57 [1:15:59<04:19, 86.34s/it]"
     ]
    },
    {
     "name": "stdout",
     "output_type": "stream",
     "text": [
      "Screenshot saved!\n"
     ]
    },
    {
     "name": "stderr",
     "output_type": "stream",
     "text": [
      "\r",
      " 96%|███████████████████████████████████████▌ | 55/57 [1:17:24<02:51, 85.74s/it]"
     ]
    },
    {
     "name": "stdout",
     "output_type": "stream",
     "text": [
      "Screenshot saved!\n"
     ]
    },
    {
     "name": "stderr",
     "output_type": "stream",
     "text": [
      "\r",
      " 98%|████████████████████████████████████████▎| 56/57 [1:18:47<01:24, 84.94s/it]"
     ]
    },
    {
     "name": "stdout",
     "output_type": "stream",
     "text": [
      "Screenshot saved!\n"
     ]
    },
    {
     "name": "stderr",
     "output_type": "stream",
     "text": [
      "100%|█████████████████████████████████████████| 57/57 [1:20:10<00:00, 84.39s/it]"
     ]
    },
    {
     "name": "stdout",
     "output_type": "stream",
     "text": [
      "Screenshot saved!\n"
     ]
    },
    {
     "name": "stderr",
     "output_type": "stream",
     "text": [
      "\n"
     ]
    }
   ],
   "source": [
    "for i in tqdm(range(manual_data.shape[0])):\n",
    "    open_url(\n",
    "        manual_data['links_dr14'].iloc[i], \n",
    "        f'{str(i).zfill(3)}_dr14_{manual_data[\"OBJID\"].iloc[i][2:-1]}',\n",
    "        'dr14_specs'\n",
    "    )\n",
    "#     open_url(\n",
    "#         manual_data['links_dr14'].iloc[i], \n",
    "#         f'{str(i).zfill(3)}_dr14_{manual_data[\"OBJID\"].iloc[i][2:-1]}',\n",
    "#         'dr14_specs'\n",
    "#     )\n",
    "#     if i == 4:\n",
    "#         break"
   ]
  },
  {
   "cell_type": "code",
   "execution_count": null,
   "id": "124b29f1",
   "metadata": {},
   "outputs": [],
   "source": []
  }
 ],
 "metadata": {
  "kernelspec": {
   "display_name": "Python 3 (ipykernel)",
   "language": "python",
   "name": "python3"
  },
  "language_info": {
   "codemirror_mode": {
    "name": "ipython",
    "version": 3
   },
   "file_extension": ".py",
   "mimetype": "text/x-python",
   "name": "python",
   "nbconvert_exporter": "python",
   "pygments_lexer": "ipython3",
   "version": "3.9.12"
  }
 },
 "nbformat": 4,
 "nbformat_minor": 5
}
